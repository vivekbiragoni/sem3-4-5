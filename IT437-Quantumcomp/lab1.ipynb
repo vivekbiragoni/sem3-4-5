{
 "cells": [
  {
   "attachments": {},
   "cell_type": "markdown",
   "metadata": {},
   "source": [
    "*Lab 1*"
   ]
  },
  {
   "cell_type": "code",
   "execution_count": 1,
   "metadata": {},
   "outputs": [
    {
     "name": "stderr",
     "output_type": "stream",
     "text": [
      "C:\\Users\\vivek\\AppData\\Local\\Temp\\ipykernel_14316\\123754603.py:14: DeprecationWarning: The qiskit.IBMQ entrypoint and the qiskit-ibmq-provider package (accessible from 'qiskit.providers.ibmq`) are deprecated and will be removed in a future release. Instead you should use the qiskit-ibm-provider package which is accessible from 'qiskit_ibm_provider'. You can install it with 'pip install qiskit_ibm_provider'. Just replace 'qiskit.IBMQ' with 'qiskit_ibm_provider.IBMProvider'\n",
      "  provider = IBMQ.load_account()\n"
     ]
    },
    {
     "ename": "IBMQAccountCredentialsNotFound",
     "evalue": "'No IBM Quantum Experience credentials found.'",
     "output_type": "error",
     "traceback": [
      "\u001b[1;31m---------------------------------------------------------------------------\u001b[0m",
      "\u001b[1;31mIBMQAccountCredentialsNotFound\u001b[0m            Traceback (most recent call last)",
      "\u001b[1;32mc:\\Users\\vivek\\Desktop\\sem4\\IT437-Quantumcomp\\lab1.ipynb Cell 2\u001b[0m in \u001b[0;36m1\n\u001b[0;32m     <a href='vscode-notebook-cell:/c%3A/Users/vivek/Desktop/sem4/IT437-Quantumcomp/lab1.ipynb#W1sZmlsZQ%3D%3D?line=10'>11</a>\u001b[0m \u001b[39mfrom\u001b[39;00m \u001b[39mqiskit\u001b[39;00m\u001b[39m.\u001b[39;00m\u001b[39mproviders\u001b[39;00m\u001b[39m.\u001b[39;00m\u001b[39maer\u001b[39;00m \u001b[39mimport\u001b[39;00m QasmSimulator\n\u001b[0;32m     <a href='vscode-notebook-cell:/c%3A/Users/vivek/Desktop/sem4/IT437-Quantumcomp/lab1.ipynb#W1sZmlsZQ%3D%3D?line=12'>13</a>\u001b[0m \u001b[39m# Loading your IBM Quantum account(s)\u001b[39;00m\n\u001b[1;32m---> <a href='vscode-notebook-cell:/c%3A/Users/vivek/Desktop/sem4/IT437-Quantumcomp/lab1.ipynb#W1sZmlsZQ%3D%3D?line=13'>14</a>\u001b[0m provider \u001b[39m=\u001b[39m IBMQ\u001b[39m.\u001b[39mload_account()\n",
      "File \u001b[1;32m~\\AppData\\Local\\Packages\\PythonSoftwareFoundation.Python.3.10_qbz5n2kfra8p0\\LocalCache\\local-packages\\Python310\\site-packages\\qiskit\\providers\\ibmq\\ibmqfactory.py:167\u001b[0m, in \u001b[0;36mIBMQFactory.load_account\u001b[1;34m(self)\u001b[0m\n\u001b[0;32m    164\u001b[0m credentials_list \u001b[39m=\u001b[39m \u001b[39mlist\u001b[39m(stored_credentials\u001b[39m.\u001b[39mvalues())\n\u001b[0;32m    166\u001b[0m \u001b[39mif\u001b[39;00m \u001b[39mnot\u001b[39;00m credentials_list:\n\u001b[1;32m--> 167\u001b[0m     \u001b[39mraise\u001b[39;00m IBMQAccountCredentialsNotFound(\n\u001b[0;32m    168\u001b[0m         \u001b[39m'\u001b[39m\u001b[39mNo IBM Quantum Experience credentials found.\u001b[39m\u001b[39m'\u001b[39m)\n\u001b[0;32m    170\u001b[0m \u001b[39mif\u001b[39;00m \u001b[39mlen\u001b[39m(credentials_list) \u001b[39m>\u001b[39m \u001b[39m1\u001b[39m:\n\u001b[0;32m    171\u001b[0m     \u001b[39mraise\u001b[39;00m IBMQAccountMultipleCredentialsFound(\n\u001b[0;32m    172\u001b[0m         \u001b[39m'\u001b[39m\u001b[39mMultiple IBM Quantum Experience credentials found. \u001b[39m\u001b[39m'\u001b[39m \u001b[39m+\u001b[39m UPDATE_ACCOUNT_TEXT)\n",
      "\u001b[1;31mIBMQAccountCredentialsNotFound\u001b[0m: 'No IBM Quantum Experience credentials found.'"
     ]
    }
   ],
   "source": [
    "import numpy as np\n",
    "import qiskit as q\n",
    "%matplotlib inline\n",
    "import numpy as np\n",
    "\n",
    "# Importing standard Qiskit libraries\n",
    "from qiskit import QuantumCircuit, transpile, Aer, IBMQ\n",
    "from qiskit.tools.jupyter import *\n",
    "from qiskit.visualization import *\n",
    "from ibm_quantum_widgets import *\n",
    "from qiskit.providers.aer import QasmSimulator\n",
    "\n",
    "# Loading your IBM Quantum account(s)\n",
    "provider = IBMQ.load_account()"
   ]
  },
  {
   "cell_type": "code",
   "execution_count": 22,
   "metadata": {},
   "outputs": [],
   "source": [
    "circuit = q.QuantumCircuit(3)"
   ]
  },
  {
   "cell_type": "code",
   "execution_count": 23,
   "metadata": {},
   "outputs": [
    {
     "data": {
      "text/plain": [
       "<qiskit.circuit.instructionset.InstructionSet at 0x1d9b0093520>"
      ]
     },
     "execution_count": 23,
     "metadata": {},
     "output_type": "execute_result"
    }
   ],
   "source": [
    "circuit = q.QuantumCircuit(2,2)  # 2 qubits, 2 classical bits \n",
    "circuit.x(0) # \"x\" is a \"not\" gate. It flips the value. Starting value is a 0, so this flips to a 1. \n",
    "circuit.cx(0, 1) #cnot, controlled not, Flips 2nd qubit's value if first qubit is 1\n",
    "circuit.measure([0,1], [0,1])  # ([qbitregister], [classicalbitregister]) Measure qubit 0 and 1 to classical bits 0 and 1"
   ]
  },
  {
   "cell_type": "code",
   "execution_count": 24,
   "metadata": {},
   "outputs": [
    {
     "data": {
      "text/html": [
       "<pre style=\"word-wrap: normal;white-space: pre;background: #fff0;line-height: 1.1;font-family: &quot;Courier New&quot;,Courier,monospace\">     ┌───┐     ┌─┐   \n",
       "q_0: ┤ X ├──■──┤M├───\n",
       "     └───┘┌─┴─┐└╥┘┌─┐\n",
       "q_1: ─────┤ X ├─╫─┤M├\n",
       "          └───┘ ║ └╥┘\n",
       "c: 2/═══════════╩══╩═\n",
       "                0  1 </pre>"
      ],
      "text/plain": [
       "     ┌───┐     ┌─┐   \n",
       "q_0: ┤ X ├──■──┤M├───\n",
       "     └───┘┌─┴─┐└╥┘┌─┐\n",
       "q_1: ─────┤ X ├─╫─┤M├\n",
       "          └───┘ ║ └╥┘\n",
       "c: 2/═══════════╩══╩═\n",
       "                0  1 "
      ]
     },
     "execution_count": 24,
     "metadata": {},
     "output_type": "execute_result"
    }
   ],
   "source": [
    "circuit.draw()"
   ]
  },
  {
   "cell_type": "code",
   "execution_count": 25,
   "metadata": {},
   "outputs": [
    {
     "data": {
      "image/png": "[encoded data removed]",
      "text/plain": [
       "<Figure size 454.517x284.278 with 1 Axes>"
      ]
     },
     "execution_count": 25,
     "metadata": {},
     "output_type": "execute_result"
    }
   ],
   "source": [
    "circuit.draw(output=\"mpl\") "
   ]
  },
  {
   "cell_type": "code",
   "execution_count": null,
   "metadata": {},
   "outputs": [],
   "source": []
  }
 ],
 "metadata": {
  "kernelspec": {
   "display_name": "Python 3",
   "language": "python",
   "name": "python3"
  },
  "language_info": {
   "codemirror_mode": {
    "name": "ipython",
    "version": 3
   },
   "file_extension": ".py",
   "mimetype": "text/x-python",
   "name": "python",
   "nbconvert_exporter": "python",
   "pygments_lexer": "ipython3",
   "version": "3.10.10"
  },
  "orig_nbformat": 4,
  "vscode": {
   "interpreter": {
    "hash": "c6bec1a4bad09875f36041fe0b299a4beba24f9cd5142826b9fa4a68c20b8404"
   }
  }
 },
 "nbformat": 4,
 "nbformat_minor": 2
}
