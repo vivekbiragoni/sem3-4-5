{
 "cells": [
  {
   "cell_type": "code",
   "execution_count": 1,
   "id": "a0676f99-6cf9-45ae-94ed-40079cf83db8",
   "metadata": {
    "tags": []
   },
   "outputs": [],
   "source": [
    "from qiskit import *\n",
    "from qiskit.visualization import plot_histogram\n",
    "import numpy as np"
   ]
  },
  {
   "cell_type": "markdown",
   "id": "20b13adf-4e51-4992-a4be-9cba642d8305",
   "metadata": {},
   "source": [
    "### <b>NOT GATE</b>\n"
   ]
  },
  {
   "cell_type": "code",
   "execution_count": 2,
   "id": "4bb63140-2fcd-4030-b360-afee867dd35f",
   "metadata": {
    "tags": []
   },
   "outputs": [],
   "source": [
    "def NOT(inp):\n",
    "\n",
    "    qc = QuantumCircuit(1, 1) # A quantum circuit with a single qubit and a single classical bit\n",
    "    qc.reset(0)\n",
    "    \n",
    "    # We encode '0' as the qubit state |0⟩, and '1' as |1⟩\n",
    "    # Since the qubit is initially |0⟩, we don't need to do anything for an input of '0'\n",
    "    # For an input of '1', we do an x to rotate the |0⟩ to |1⟩\n",
    "    if inp=='1':\n",
    "        qc.x(0)\n",
    "        \n",
    "    # barrier between input state and gate operation \n",
    "    qc.barrier()\n",
    "    \n",
    "    # Now we've encoded the input, we can do a NOT on it using x\n",
    "    qc.x(0)\n",
    "    \n",
    "    #barrier between gate operation and measurement\n",
    "    qc.barrier()\n",
    "    \n",
    "    # Finally, we extract the |0⟩/|1⟩ output of the qubit and encode it in the bit c[0]\n",
    "    qc.measure(0,0)\n",
    "    qc.draw('mpl')\n",
    "    \n",
    "    # We'll run the program on a simulator\n",
    "    backend = Aer.get_backend('aer_simulator')\n",
    "    # Since the output will be deterministic, we can use just a single shot to get it\n",
    "    job = backend.run(qc, shots=1, memory=True)\n",
    "    output = job.result().get_memory()[0]\n",
    "    \n",
    "    return qc, output"
   ]
  },
  {
   "attachments": {},
   "cell_type": "markdown",
   "id": "0e3fd819",
   "metadata": {},
   "source": [
    " code defines a quantum circuit that performs a NOT operation on a single qubit based on an input bit. If the input bit is '1', the circuit applies an X gate to rotate the qubit from state |0⟩ to state |1⟩ before performing the NOT operation. The output of the circuit, which is either |0⟩ or |1⟩, is then measured and returned as a classical bit."
   ]
  },
  {
   "cell_type": "code",
   "execution_count": 3,
   "id": "8b4e2e8c-706c-4e12-8d60-5c443dd66adf",
   "metadata": {
    "tags": []
   },
   "outputs": [
    {
     "name": "stdout",
     "output_type": "stream",
     "text": [
      "NOT with input 0 gives output 1\n"
     ]
    },
    {
     "data": {
      "text/html": [
       "<pre style=\"word-wrap: normal;white-space: pre;background: #fff0;line-height: 1.1;font-family: &quot;Courier New&quot;,Courier,monospace\">           ░ ┌───┐ ░ ┌─┐\n",
       "  q: ─|0>──░─┤ X ├─░─┤M├\n",
       "           ░ └───┘ ░ └╥┘\n",
       "c: 1/═════════════════╩═\n",
       "                      0 </pre>"
      ],
      "text/plain": [
       "           ░ ┌───┐ ░ ┌─┐\n",
       "  q: ─|0>──░─┤ X ├─░─┤M├\n",
       "           ░ └───┘ ░ └╥┘\n",
       "c: 1/═════════════════╩═\n",
       "                      0 "
      ]
     },
     "metadata": {},
     "output_type": "display_data"
    },
    {
     "name": "stdout",
     "output_type": "stream",
     "text": [
      "\n",
      "\n",
      "NOT with input 1 gives output 0\n"
     ]
    },
    {
     "data": {
      "text/html": [
       "<pre style=\"word-wrap: normal;white-space: pre;background: #fff0;line-height: 1.1;font-family: &quot;Courier New&quot;,Courier,monospace\">          ┌───┐ ░ ┌───┐ ░ ┌─┐\n",
       "  q: ─|0>─┤ X ├─░─┤ X ├─░─┤M├\n",
       "          └───┘ ░ └───┘ ░ └╥┘\n",
       "c: 1/══════════════════════╩═\n",
       "                           0 </pre>"
      ],
      "text/plain": [
       "          ┌───┐ ░ ┌───┐ ░ ┌─┐\n",
       "  q: ─|0>─┤ X ├─░─┤ X ├─░─┤M├\n",
       "          └───┘ ░ └───┘ ░ └╥┘\n",
       "c: 1/══════════════════════╩═\n",
       "                           0 "
      ]
     },
     "metadata": {},
     "output_type": "display_data"
    },
    {
     "name": "stdout",
     "output_type": "stream",
     "text": [
      "\n",
      "\n"
     ]
    }
   ],
   "source": [
    "## Test the function\n",
    "for inp in ['0', '1']:\n",
    "    qc, out = NOT(inp)\n",
    "    print('NOT with input',inp,'gives output',out)\n",
    "    display(qc.draw())\n",
    "    print('\\n')"
   ]
  },
  {
   "attachments": {},
   "cell_type": "markdown",
   "id": "3f161d0f",
   "metadata": {},
   "source": [
    "The code tests the NOT gate function by giving it inputs of 0 and 1. It then prints the output of the gate for each input and displays the corresponding quantum circuit diagram. The NOT gate function takes a single qubit input and returns the output qubit that is the negation of the input qubit."
   ]
  },
  {
   "cell_type": "markdown",
   "id": "4000a882-0690-444b-b868-9fe03e15a460",
   "metadata": {},
   "source": [
    "---"
   ]
  },
  {
   "cell_type": "markdown",
   "id": "dee33eb9-8b9a-44f0-b9f0-2bc16e4c9b60",
   "metadata": {},
   "source": [
    "### <b>XOR GATE</b>\n"
   ]
  },
  {
   "cell_type": "code",
   "execution_count": 4,
   "id": "23d189bc-efb7-4a08-bfbf-f99f1412bce6",
   "metadata": {
    "tags": []
   },
   "outputs": [],
   "source": [
    "def XOR(inp1,inp2):\n",
    "\n",
    "    qc = QuantumCircuit(2, 1) \n",
    "    qc.reset(range(2))\n",
    "    \n",
    "    if inp1=='1':\n",
    "        qc.x(0)\n",
    "    if inp2=='1':\n",
    "        qc.x(1)\n",
    "    \n",
    "    # barrier between input state and gate operation \n",
    "    qc.barrier()\n",
    "\n",
    "    # barrier between input state and gate operation \n",
    "    qc.barrier()\n",
    "    \n",
    "    qc.measure(1,0) # output from qubit 1 is measured\n",
    "  \n",
    "    #We'll run the program on a simulator\n",
    "    backend = Aer.get_backend('aer_simulator')\n",
    "    #Since the output will be deterministic, we can use just a single shot to get it\n",
    "    job = backend.run(qc, shots=1, memory=True)\n",
    "    output = job.result().get_memory()[0]\n",
    "  \n",
    "    return qc, output"
   ]
  },
  {
   "attachments": {},
   "cell_type": "markdown",
   "id": "5faadb96",
   "metadata": {},
   "source": [
    "code defines a quantum circuit that performs an XOR operation on two input bits using two qubits. If the input bits are '1', the circuit applies an X gate to the corresponding qubit to rotate it from state |0⟩ to state |1⟩. The circuit then applies a CNOT gate to the two qubits, with the first qubit as the control and the second qubit as the target. Finally, the output of the second qubit is measured and returned as a classical bit."
   ]
  },
  {
   "cell_type": "code",
   "execution_count": 5,
   "id": "e9dea160-48d9-4326-883d-6cd660bc0478",
   "metadata": {
    "tags": []
   },
   "outputs": [
    {
     "name": "stdout",
     "output_type": "stream",
     "text": [
      "XOR with inputs 0 0 gives output 0\n"
     ]
    },
    {
     "data": {
      "text/html": [
       "<pre style=\"word-wrap: normal;white-space: pre;background: #fff0;line-height: 1.1;font-family: &quot;Courier New&quot;,Courier,monospace\">           ░  ░    \n",
       "q_0: ─|0>──░──░────\n",
       "           ░  ░ ┌─┐\n",
       "q_1: ─|0>──░──░─┤M├\n",
       "           ░  ░ └╥┘\n",
       "c: 1/════════════╩═\n",
       "                 0 </pre>"
      ],
      "text/plain": [
       "           ░  ░    \n",
       "q_0: ─|0>──░──░────\n",
       "           ░  ░ ┌─┐\n",
       "q_1: ─|0>──░──░─┤M├\n",
       "           ░  ░ └╥┘\n",
       "c: 1/════════════╩═\n",
       "                 0 "
      ]
     },
     "metadata": {},
     "output_type": "display_data"
    },
    {
     "name": "stdout",
     "output_type": "stream",
     "text": [
      "\n",
      "\n",
      "XOR with inputs 0 1 gives output 1\n"
     ]
    },
    {
     "data": {
      "text/html": [
       "<pre style=\"word-wrap: normal;white-space: pre;background: #fff0;line-height: 1.1;font-family: &quot;Courier New&quot;,Courier,monospace\">                ░  ░    \n",
       "q_0: ─|0>───────░──░────\n",
       "          ┌───┐ ░  ░ ┌─┐\n",
       "q_1: ─|0>─┤ X ├─░──░─┤M├\n",
       "          └───┘ ░  ░ └╥┘\n",
       "c: 1/═════════════════╩═\n",
       "                      0 </pre>"
      ],
      "text/plain": [
       "                ░  ░    \n",
       "q_0: ─|0>───────░──░────\n",
       "          ┌───┐ ░  ░ ┌─┐\n",
       "q_1: ─|0>─┤ X ├─░──░─┤M├\n",
       "          └───┘ ░  ░ └╥┘\n",
       "c: 1/═════════════════╩═\n",
       "                      0 "
      ]
     },
     "metadata": {},
     "output_type": "display_data"
    },
    {
     "name": "stdout",
     "output_type": "stream",
     "text": [
      "\n",
      "\n",
      "XOR with inputs 1 0 gives output 0\n"
     ]
    },
    {
     "data": {
      "text/html": [
       "<pre style=\"word-wrap: normal;white-space: pre;background: #fff0;line-height: 1.1;font-family: &quot;Courier New&quot;,Courier,monospace\">          ┌───┐ ░  ░    \n",
       "q_0: ─|0>─┤ X ├─░──░────\n",
       "          └───┘ ░  ░ ┌─┐\n",
       "q_1: ─|0>───────░──░─┤M├\n",
       "                ░  ░ └╥┘\n",
       "c: 1/═════════════════╩═\n",
       "                      0 </pre>"
      ],
      "text/plain": [
       "          ┌───┐ ░  ░    \n",
       "q_0: ─|0>─┤ X ├─░──░────\n",
       "          └───┘ ░  ░ ┌─┐\n",
       "q_1: ─|0>───────░──░─┤M├\n",
       "                ░  ░ └╥┘\n",
       "c: 1/═════════════════╩═\n",
       "                      0 "
      ]
     },
     "metadata": {},
     "output_type": "display_data"
    },
    {
     "name": "stdout",
     "output_type": "stream",
     "text": [
      "\n",
      "\n",
      "XOR with inputs 1 1 gives output 1\n"
     ]
    },
    {
     "data": {
      "text/html": [
       "<pre style=\"word-wrap: normal;white-space: pre;background: #fff0;line-height: 1.1;font-family: &quot;Courier New&quot;,Courier,monospace\">          ┌───┐ ░  ░    \n",
       "q_0: ─|0>─┤ X ├─░──░────\n",
       "          ├───┤ ░  ░ ┌─┐\n",
       "q_1: ─|0>─┤ X ├─░──░─┤M├\n",
       "          └───┘ ░  ░ └╥┘\n",
       "c: 1/═════════════════╩═\n",
       "                      0 </pre>"
      ],
      "text/plain": [
       "          ┌───┐ ░  ░    \n",
       "q_0: ─|0>─┤ X ├─░──░────\n",
       "          ├───┤ ░  ░ ┌─┐\n",
       "q_1: ─|0>─┤ X ├─░──░─┤M├\n",
       "          └───┘ ░  ░ └╥┘\n",
       "c: 1/═════════════════╩═\n",
       "                      0 "
      ]
     },
     "metadata": {},
     "output_type": "display_data"
    },
    {
     "name": "stdout",
     "output_type": "stream",
     "text": [
      "\n",
      "\n"
     ]
    }
   ],
   "source": [
    "## Test the function\n",
    "for inp1 in ['0', '1']:\n",
    "    for inp2 in ['0', '1']:\n",
    "        qc, output = XOR(inp1, inp2)\n",
    "        print('XOR with inputs',inp1,inp2,'gives output',output)\n",
    "        display(qc.draw())\n",
    "        print('\\n')"
   ]
  },
  {
   "cell_type": "markdown",
   "id": "0f352a78-ede7-4767-8a36-24d0abc4f7df",
   "metadata": {},
   "source": [
    "---"
   ]
  },
  {
   "cell_type": "markdown",
   "id": "9c080e82-a451-4d82-ba8f-e9b8251322df",
   "metadata": {},
   "source": [
    "### <b>AND GATE</b>\n"
   ]
  },
  {
   "cell_type": "code",
   "execution_count": 6,
   "id": "8887c2d4-baa4-4b53-9de4-d1f44974e634",
   "metadata": {
    "tags": []
   },
   "outputs": [],
   "source": [
    "def AND(inp1,inp2):\n",
    "    \"\"\"An AND gate.\n",
    "    \n",
    "    Parameters:\n",
    "        inpt1 (str): Input 1, encoded in qubit 0.\n",
    "        inpt2 (str): Input 2, encoded in qubit 1.\n",
    "        \n",
    "    Returns:\n",
    "        QuantumCircuit: Output XOR circuit.\n",
    "        str: Output value measured from qubit 2.\n",
    "    \"\"\"\n",
    "    qc = QuantumCircuit(3, 1) \n",
    "    qc.reset(range(2))\n",
    "  \n",
    "    if inp1=='1':\n",
    "        qc.x(0)\n",
    "    if inp2=='1':\n",
    "        qc.x(1)\n",
    "        \n",
    "    qc.barrier()\n",
    "\n",
    "    # this is where your program for quantum AND gate goes\n",
    "\n",
    "    \n",
    "    \n",
    "    \n",
    "    \n",
    "    \n",
    "\n",
    "    qc.barrier()\n",
    "    qc.measure(2, 0) # output from qubit 2 is measured\n",
    "  \n",
    "    # We'll run the program on a simulator\n",
    "    backend = Aer.get_backend('aer_simulator')\n",
    "    # Since the output will be deterministic, we can use just a single shot to get it\n",
    "    job = backend.run(qc, shots=1, memory=True)\n",
    "    output = job.result().get_memory()[0]\n",
    "  \n",
    "    return qc, output"
   ]
  },
  {
   "attachments": {},
   "cell_type": "markdown",
   "id": "50ae76fd",
   "metadata": {},
   "source": [
    "code defines a quantum circuit that is intended to perform an AND operation on two input bits using three qubits. If the input bits are '1', the circuit applies an X gate to the corresponding qubit to rotate it from state |0⟩ to state |1⟩. "
   ]
  },
  {
   "cell_type": "code",
   "execution_count": 7,
   "id": "0aecca46-9e59-4767-849f-6d25786529d5",
   "metadata": {
    "tags": []
   },
   "outputs": [
    {
     "name": "stdout",
     "output_type": "stream",
     "text": [
      "AND with inputs 0 0 gives output 0\n"
     ]
    },
    {
     "data": {
      "text/html": [
       "<pre style=\"word-wrap: normal;white-space: pre;background: #fff0;line-height: 1.1;font-family: &quot;Courier New&quot;,Courier,monospace\">           ░  ░    \n",
       "q_0: ─|0>──░──░────\n",
       "           ░  ░    \n",
       "q_1: ─|0>──░──░────\n",
       "           ░  ░ ┌─┐\n",
       "q_2: ──────░──░─┤M├\n",
       "           ░  ░ └╥┘\n",
       "c: 1/════════════╩═\n",
       "                 0 </pre>"
      ],
      "text/plain": [
       "           ░  ░    \n",
       "q_0: ─|0>──░──░────\n",
       "           ░  ░    \n",
       "q_1: ─|0>──░──░────\n",
       "           ░  ░ ┌─┐\n",
       "q_2: ──────░──░─┤M├\n",
       "           ░  ░ └╥┘\n",
       "c: 1/════════════╩═\n",
       "                 0 "
      ]
     },
     "metadata": {},
     "output_type": "display_data"
    },
    {
     "name": "stdout",
     "output_type": "stream",
     "text": [
      "\n",
      "\n",
      "AND with inputs 0 1 gives output 0\n"
     ]
    },
    {
     "data": {
      "text/html": [
       "<pre style=\"word-wrap: normal;white-space: pre;background: #fff0;line-height: 1.1;font-family: &quot;Courier New&quot;,Courier,monospace\">                ░  ░    \n",
       "q_0: ─|0>───────░──░────\n",
       "          ┌───┐ ░  ░    \n",
       "q_1: ─|0>─┤ X ├─░──░────\n",
       "          └───┘ ░  ░ ┌─┐\n",
       "q_2: ───────────░──░─┤M├\n",
       "                ░  ░ └╥┘\n",
       "c: 1/═════════════════╩═\n",
       "                      0 </pre>"
      ],
      "text/plain": [
       "                ░  ░    \n",
       "q_0: ─|0>───────░──░────\n",
       "          ┌───┐ ░  ░    \n",
       "q_1: ─|0>─┤ X ├─░──░────\n",
       "          └───┘ ░  ░ ┌─┐\n",
       "q_2: ───────────░──░─┤M├\n",
       "                ░  ░ └╥┘\n",
       "c: 1/═════════════════╩═\n",
       "                      0 "
      ]
     },
     "metadata": {},
     "output_type": "display_data"
    },
    {
     "name": "stdout",
     "output_type": "stream",
     "text": [
      "\n",
      "\n",
      "AND with inputs 1 0 gives output 0\n"
     ]
    },
    {
     "data": {
      "text/html": [
       "<pre style=\"word-wrap: normal;white-space: pre;background: #fff0;line-height: 1.1;font-family: &quot;Courier New&quot;,Courier,monospace\">          ┌───┐ ░  ░    \n",
       "q_0: ─|0>─┤ X ├─░──░────\n",
       "          └───┘ ░  ░    \n",
       "q_1: ─|0>───────░──░────\n",
       "                ░  ░ ┌─┐\n",
       "q_2: ───────────░──░─┤M├\n",
       "                ░  ░ └╥┘\n",
       "c: 1/═════════════════╩═\n",
       "                      0 </pre>"
      ],
      "text/plain": [
       "          ┌───┐ ░  ░    \n",
       "q_0: ─|0>─┤ X ├─░──░────\n",
       "          └───┘ ░  ░    \n",
       "q_1: ─|0>───────░──░────\n",
       "                ░  ░ ┌─┐\n",
       "q_2: ───────────░──░─┤M├\n",
       "                ░  ░ └╥┘\n",
       "c: 1/═════════════════╩═\n",
       "                      0 "
      ]
     },
     "metadata": {},
     "output_type": "display_data"
    },
    {
     "name": "stdout",
     "output_type": "stream",
     "text": [
      "\n",
      "\n",
      "AND with inputs 1 1 gives output 0\n"
     ]
    },
    {
     "data": {
      "text/html": [
       "<pre style=\"word-wrap: normal;white-space: pre;background: #fff0;line-height: 1.1;font-family: &quot;Courier New&quot;,Courier,monospace\">          ┌───┐ ░  ░    \n",
       "q_0: ─|0>─┤ X ├─░──░────\n",
       "          ├───┤ ░  ░    \n",
       "q_1: ─|0>─┤ X ├─░──░────\n",
       "          └───┘ ░  ░ ┌─┐\n",
       "q_2: ───────────░──░─┤M├\n",
       "                ░  ░ └╥┘\n",
       "c: 1/═════════════════╩═\n",
       "                      0 </pre>"
      ],
      "text/plain": [
       "          ┌───┐ ░  ░    \n",
       "q_0: ─|0>─┤ X ├─░──░────\n",
       "          ├───┤ ░  ░    \n",
       "q_1: ─|0>─┤ X ├─░──░────\n",
       "          └───┘ ░  ░ ┌─┐\n",
       "q_2: ───────────░──░─┤M├\n",
       "                ░  ░ └╥┘\n",
       "c: 1/═════════════════╩═\n",
       "                      0 "
      ]
     },
     "metadata": {},
     "output_type": "display_data"
    },
    {
     "name": "stdout",
     "output_type": "stream",
     "text": [
      "\n",
      "\n"
     ]
    }
   ],
   "source": [
    "## Test the function\n",
    "for inp1 in ['0', '1']:\n",
    "    for inp2 in ['0', '1']:\n",
    "        qc, output = AND(inp1, inp2)\n",
    "        print('AND with inputs',inp1,inp2,'gives output',output)\n",
    "        display(qc.draw())\n",
    "        print('\\n')"
   ]
  },
  {
   "cell_type": "markdown",
   "id": "0943cad3-aa77-4e21-98b7-278f1e148266",
   "metadata": {
    "tags": []
   },
   "source": [
    "---"
   ]
  },
  {
   "cell_type": "markdown",
   "id": "4a35c61d-ccbe-4cf0-b856-f24115cc457b",
   "metadata": {},
   "source": [
    "### <b>NAND GATE</b>\n"
   ]
  },
  {
   "cell_type": "code",
   "execution_count": 8,
   "id": "1ff2d158-6e9c-4c5c-a462-467c8e1ff894",
   "metadata": {
    "tags": []
   },
   "outputs": [],
   "source": [
    "def NAND(inp1,inp2):\n",
    "    \"\"\"An NAND gate.\n",
    "    \n",
    "    Parameters:\n",
    "        inpt1 (str): Input 1, encoded in qubit 0.\n",
    "        inpt2 (str): Input 2, encoded in qubit 1.\n",
    "        \n",
    "    Returns:\n",
    "        QuantumCircuit: Output NAND circuit.\n",
    "        str: Output value measured from qubit 2.\n",
    "    \"\"\"\n",
    "    qc = QuantumCircuit(3, 1) \n",
    "    qc.reset(range(3))\n",
    "    \n",
    "    if inp1=='1':\n",
    "        qc.x(0)\n",
    "    if inp2=='1':\n",
    "        qc.x(1)\n",
    "    \n",
    "    qc.barrier()\n",
    "    \n",
    "    # this is where your program for quantum NAND gate goes\n",
    "\n",
    "\n",
    "    \n",
    "    \n",
    "    \n",
    "    \n",
    "    \n",
    "    qc.barrier()\n",
    "    qc.measure(2, 0) # output from qubit 2 is measured\n",
    "  \n",
    "    # We'll run the program on a simulator\n",
    "    backend = Aer.get_backend('aer_simulator')\n",
    "    # Since the output will be deterministic, we can use just a single shot to get it\n",
    "    job = backend.run(qc,shots=1,memory=True)\n",
    "    output = job.result().get_memory()[0]\n",
    "  \n",
    "    return qc, output"
   ]
  },
  {
   "attachments": {},
   "cell_type": "markdown",
   "id": "8e4307e1",
   "metadata": {},
   "source": [
    "code defines a quantum circuit that is intended to perform a NAND operation on two input bits using three qubits. If the input bits are '1', the circuit applies an X gate to the corresponding qubit to rotate it from state |0⟩ to state |1⟩."
   ]
  },
  {
   "cell_type": "code",
   "execution_count": 9,
   "id": "ca3d7965-ba89-4771-9fb1-aa36cca18c49",
   "metadata": {
    "tags": []
   },
   "outputs": [
    {
     "name": "stdout",
     "output_type": "stream",
     "text": [
      "NAND with inputs 0 0 gives output 0\n"
     ]
    },
    {
     "data": {
      "text/html": [
       "<pre style=\"word-wrap: normal;white-space: pre;background: #fff0;line-height: 1.1;font-family: &quot;Courier New&quot;,Courier,monospace\">           ░  ░    \n",
       "q_0: ─|0>──░──░────\n",
       "           ░  ░    \n",
       "q_1: ─|0>──░──░────\n",
       "           ░  ░ ┌─┐\n",
       "q_2: ─|0>──░──░─┤M├\n",
       "           ░  ░ └╥┘\n",
       "c: 1/════════════╩═\n",
       "                 0 </pre>"
      ],
      "text/plain": [
       "           ░  ░    \n",
       "q_0: ─|0>──░──░────\n",
       "           ░  ░    \n",
       "q_1: ─|0>──░──░────\n",
       "           ░  ░ ┌─┐\n",
       "q_2: ─|0>──░──░─┤M├\n",
       "           ░  ░ └╥┘\n",
       "c: 1/════════════╩═\n",
       "                 0 "
      ]
     },
     "metadata": {},
     "output_type": "display_data"
    },
    {
     "name": "stdout",
     "output_type": "stream",
     "text": [
      "\n",
      "\n",
      "NAND with inputs 0 1 gives output 0\n"
     ]
    },
    {
     "data": {
      "text/html": [
       "<pre style=\"word-wrap: normal;white-space: pre;background: #fff0;line-height: 1.1;font-family: &quot;Courier New&quot;,Courier,monospace\">                ░  ░    \n",
       "q_0: ─|0>───────░──░────\n",
       "          ┌───┐ ░  ░    \n",
       "q_1: ─|0>─┤ X ├─░──░────\n",
       "          └───┘ ░  ░ ┌─┐\n",
       "q_2: ─|0>───────░──░─┤M├\n",
       "                ░  ░ └╥┘\n",
       "c: 1/═════════════════╩═\n",
       "                      0 </pre>"
      ],
      "text/plain": [
       "                ░  ░    \n",
       "q_0: ─|0>───────░──░────\n",
       "          ┌───┐ ░  ░    \n",
       "q_1: ─|0>─┤ X ├─░──░────\n",
       "          └───┘ ░  ░ ┌─┐\n",
       "q_2: ─|0>───────░──░─┤M├\n",
       "                ░  ░ └╥┘\n",
       "c: 1/═════════════════╩═\n",
       "                      0 "
      ]
     },
     "metadata": {},
     "output_type": "display_data"
    },
    {
     "name": "stdout",
     "output_type": "stream",
     "text": [
      "\n",
      "\n",
      "NAND with inputs 1 0 gives output 0\n"
     ]
    },
    {
     "data": {
      "text/html": [
       "<pre style=\"word-wrap: normal;white-space: pre;background: #fff0;line-height: 1.1;font-family: &quot;Courier New&quot;,Courier,monospace\">          ┌───┐ ░  ░    \n",
       "q_0: ─|0>─┤ X ├─░──░────\n",
       "          └───┘ ░  ░    \n",
       "q_1: ─|0>───────░──░────\n",
       "                ░  ░ ┌─┐\n",
       "q_2: ─|0>───────░──░─┤M├\n",
       "                ░  ░ └╥┘\n",
       "c: 1/═════════════════╩═\n",
       "                      0 </pre>"
      ],
      "text/plain": [
       "          ┌───┐ ░  ░    \n",
       "q_0: ─|0>─┤ X ├─░──░────\n",
       "          └───┘ ░  ░    \n",
       "q_1: ─|0>───────░──░────\n",
       "                ░  ░ ┌─┐\n",
       "q_2: ─|0>───────░──░─┤M├\n",
       "                ░  ░ └╥┘\n",
       "c: 1/═════════════════╩═\n",
       "                      0 "
      ]
     },
     "metadata": {},
     "output_type": "display_data"
    },
    {
     "name": "stdout",
     "output_type": "stream",
     "text": [
      "\n",
      "\n",
      "NAND with inputs 1 1 gives output 0\n"
     ]
    },
    {
     "data": {
      "text/html": [
       "<pre style=\"word-wrap: normal;white-space: pre;background: #fff0;line-height: 1.1;font-family: &quot;Courier New&quot;,Courier,monospace\">          ┌───┐ ░  ░    \n",
       "q_0: ─|0>─┤ X ├─░──░────\n",
       "          ├───┤ ░  ░    \n",
       "q_1: ─|0>─┤ X ├─░──░────\n",
       "          └───┘ ░  ░ ┌─┐\n",
       "q_2: ─|0>───────░──░─┤M├\n",
       "                ░  ░ └╥┘\n",
       "c: 1/═════════════════╩═\n",
       "                      0 </pre>"
      ],
      "text/plain": [
       "          ┌───┐ ░  ░    \n",
       "q_0: ─|0>─┤ X ├─░──░────\n",
       "          ├───┤ ░  ░    \n",
       "q_1: ─|0>─┤ X ├─░──░────\n",
       "          └───┘ ░  ░ ┌─┐\n",
       "q_2: ─|0>───────░──░─┤M├\n",
       "                ░  ░ └╥┘\n",
       "c: 1/═════════════════╩═\n",
       "                      0 "
      ]
     },
     "metadata": {},
     "output_type": "display_data"
    },
    {
     "name": "stdout",
     "output_type": "stream",
     "text": [
      "\n",
      "\n"
     ]
    }
   ],
   "source": [
    "## Test the function\n",
    "for inp1 in ['0', '1']:\n",
    "    for inp2 in ['0', '1']:\n",
    "        qc, output = NAND(inp1, inp2)\n",
    "        print('NAND with inputs',inp1,inp2,'gives output',output)\n",
    "        display(qc.draw())\n",
    "        print('\\n')"
   ]
  },
  {
   "cell_type": "markdown",
   "id": "ab1d74b8-80dd-4723-9d6b-3d24ea63f428",
   "metadata": {},
   "source": [
    "---"
   ]
  },
  {
   "cell_type": "markdown",
   "id": "a9f8dc00-08a0-4513-b1be-f98786d0ebdc",
   "metadata": {
    "tags": []
   },
   "source": [
    "### <b>OR GATE</b>\n"
   ]
  },
  {
   "cell_type": "code",
   "execution_count": 10,
   "id": "c19db252-c0dc-4bbc-9ae7-82487be4a81a",
   "metadata": {
    "tags": []
   },
   "outputs": [],
   "source": [
    "def OR(inp1,inp2):\n",
    "    \"\"\"An OR gate.\n",
    "    \n",
    "    Parameters:\n",
    "        inpt1 (str): Input 1, encoded in qubit 0.\n",
    "        inpt2 (str): Input 2, encoded in qubit 1.\n",
    "        \n",
    "    Returns:\n",
    "        QuantumCircuit: Output XOR circuit.\n",
    "        str: Output value measured from qubit 2.\n",
    "    \"\"\"\n",
    "\n",
    "    qc = QuantumCircuit(3, 1) \n",
    "    qc.reset(range(3))\n",
    "    \n",
    "    if inp1=='1':\n",
    "        qc.x(0)\n",
    "    if inp2=='1':\n",
    "        qc.x(1)\n",
    "    \n",
    "    qc.barrier()\n",
    "   \n",
    "    # this is where your program for quantum OR gate goes\n",
    "\n",
    "\n",
    "    \n",
    "    \n",
    "    \n",
    "    \n",
    "    \n",
    "    qc.barrier()\n",
    "    qc.measure(2, 0) # output from qubit 2 is measured\n",
    "  \n",
    "    # We'll run the program on a simulator\n",
    "    backend = Aer.get_backend('aer_simulator')\n",
    "    # Since the output will be deterministic, we can use just a single shot to get it\n",
    "    job = backend.run(qc,shots=1,memory=True)\n",
    "    output = job.result().get_memory()[0]\n",
    "  \n",
    "    return qc, output"
   ]
  },
  {
   "attachments": {},
   "cell_type": "markdown",
   "id": "5ef9b5cc",
   "metadata": {},
   "source": [
    "The OR function defines a quantum circuit for an OR gate that takes in two inputs and outputs a single bit. The function takes in two parameters, inp1 and inp2, which are the binary representations of the two input bits. The circuit consists of three qubits and one classical bit, with inp1 and inp2 encoded on qubits 0 and 1, respectively. The function then applies quantum gates to these qubits to implement the OR operation, which is where the program for the quantum OR gate goes. Finally, the function measures the output on qubit 2 and returns the quantum circuit and the output value as a string."
   ]
  },
  {
   "cell_type": "code",
   "execution_count": 11,
   "id": "a2c4da69-137f-4f8c-8948-8508cf275360",
   "metadata": {
    "tags": []
   },
   "outputs": [
    {
     "name": "stdout",
     "output_type": "stream",
     "text": [
      "OR with inputs 0 0 gives output 0\n"
     ]
    },
    {
     "data": {
      "text/html": [
       "<pre style=\"word-wrap: normal;white-space: pre;background: #fff0;line-height: 1.1;font-family: &quot;Courier New&quot;,Courier,monospace\">           ░  ░    \n",
       "q_0: ─|0>──░──░────\n",
       "           ░  ░    \n",
       "q_1: ─|0>──░──░────\n",
       "           ░  ░ ┌─┐\n",
       "q_2: ─|0>──░──░─┤M├\n",
       "           ░  ░ └╥┘\n",
       "c: 1/════════════╩═\n",
       "                 0 </pre>"
      ],
      "text/plain": [
       "           ░  ░    \n",
       "q_0: ─|0>──░──░────\n",
       "           ░  ░    \n",
       "q_1: ─|0>──░──░────\n",
       "           ░  ░ ┌─┐\n",
       "q_2: ─|0>──░──░─┤M├\n",
       "           ░  ░ └╥┘\n",
       "c: 1/════════════╩═\n",
       "                 0 "
      ]
     },
     "metadata": {},
     "output_type": "display_data"
    },
    {
     "name": "stdout",
     "output_type": "stream",
     "text": [
      "\n",
      "\n",
      "OR with inputs 0 1 gives output 0\n"
     ]
    },
    {
     "data": {
      "text/html": [
       "<pre style=\"word-wrap: normal;white-space: pre;background: #fff0;line-height: 1.1;font-family: &quot;Courier New&quot;,Courier,monospace\">                ░  ░    \n",
       "q_0: ─|0>───────░──░────\n",
       "          ┌───┐ ░  ░    \n",
       "q_1: ─|0>─┤ X ├─░──░────\n",
       "          └───┘ ░  ░ ┌─┐\n",
       "q_2: ─|0>───────░──░─┤M├\n",
       "                ░  ░ └╥┘\n",
       "c: 1/═════════════════╩═\n",
       "                      0 </pre>"
      ],
      "text/plain": [
       "                ░  ░    \n",
       "q_0: ─|0>───────░──░────\n",
       "          ┌───┐ ░  ░    \n",
       "q_1: ─|0>─┤ X ├─░──░────\n",
       "          └───┘ ░  ░ ┌─┐\n",
       "q_2: ─|0>───────░──░─┤M├\n",
       "                ░  ░ └╥┘\n",
       "c: 1/═════════════════╩═\n",
       "                      0 "
      ]
     },
     "metadata": {},
     "output_type": "display_data"
    },
    {
     "name": "stdout",
     "output_type": "stream",
     "text": [
      "\n",
      "\n",
      "OR with inputs 1 0 gives output 0\n"
     ]
    },
    {
     "data": {
      "text/html": [
       "<pre style=\"word-wrap: normal;white-space: pre;background: #fff0;line-height: 1.1;font-family: &quot;Courier New&quot;,Courier,monospace\">          ┌───┐ ░  ░    \n",
       "q_0: ─|0>─┤ X ├─░──░────\n",
       "          └───┘ ░  ░    \n",
       "q_1: ─|0>───────░──░────\n",
       "                ░  ░ ┌─┐\n",
       "q_2: ─|0>───────░──░─┤M├\n",
       "                ░  ░ └╥┘\n",
       "c: 1/═════════════════╩═\n",
       "                      0 </pre>"
      ],
      "text/plain": [
       "          ┌───┐ ░  ░    \n",
       "q_0: ─|0>─┤ X ├─░──░────\n",
       "          └───┘ ░  ░    \n",
       "q_1: ─|0>───────░──░────\n",
       "                ░  ░ ┌─┐\n",
       "q_2: ─|0>───────░──░─┤M├\n",
       "                ░  ░ └╥┘\n",
       "c: 1/═════════════════╩═\n",
       "                      0 "
      ]
     },
     "metadata": {},
     "output_type": "display_data"
    },
    {
     "name": "stdout",
     "output_type": "stream",
     "text": [
      "\n",
      "\n",
      "OR with inputs 1 1 gives output 0\n"
     ]
    },
    {
     "data": {
      "text/html": [
       "<pre style=\"word-wrap: normal;white-space: pre;background: #fff0;line-height: 1.1;font-family: &quot;Courier New&quot;,Courier,monospace\">          ┌───┐ ░  ░    \n",
       "q_0: ─|0>─┤ X ├─░──░────\n",
       "          ├───┤ ░  ░    \n",
       "q_1: ─|0>─┤ X ├─░──░────\n",
       "          └───┘ ░  ░ ┌─┐\n",
       "q_2: ─|0>───────░──░─┤M├\n",
       "                ░  ░ └╥┘\n",
       "c: 1/═════════════════╩═\n",
       "                      0 </pre>"
      ],
      "text/plain": [
       "          ┌───┐ ░  ░    \n",
       "q_0: ─|0>─┤ X ├─░──░────\n",
       "          ├───┤ ░  ░    \n",
       "q_1: ─|0>─┤ X ├─░──░────\n",
       "          └───┘ ░  ░ ┌─┐\n",
       "q_2: ─|0>───────░──░─┤M├\n",
       "                ░  ░ └╥┘\n",
       "c: 1/═════════════════╩═\n",
       "                      0 "
      ]
     },
     "metadata": {},
     "output_type": "display_data"
    },
    {
     "name": "stdout",
     "output_type": "stream",
     "text": [
      "\n",
      "\n"
     ]
    }
   ],
   "source": [
    "## Test the function\n",
    "for inp1 in ['0', '1']:\n",
    "    for inp2 in ['0', '1']:\n",
    "        qc, output = OR(inp1, inp2)\n",
    "        print('OR with inputs',inp1,inp2,'gives output',output)\n",
    "        display(qc.draw())\n",
    "        print('\\n')"
   ]
  }
 ],
 "metadata": {
  "kernelspec": {
   "display_name": "Python 3 (ipykernel)",
   "language": "python",
   "name": "python3"
  },
  "language_info": {
   "codemirror_mode": {
    "name": "ipython",
    "version": 3
   },
   "file_extension": ".py",
   "mimetype": "text/x-python",
   "name": "python",
   "nbconvert_exporter": "python",
   "pygments_lexer": "ipython3",
   "version": "3.10.10"
  },
  "widgets": {
   "application/vnd.jupyter.widget-state+json": {
    "state": {},
    "version_major": 2,
    "version_minor": 0
   }
  }
 },
 "nbformat": 4,
 "nbformat_minor": 5
}
