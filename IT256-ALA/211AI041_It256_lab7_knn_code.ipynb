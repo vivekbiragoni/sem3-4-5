{
 "cells": [
  {
   "attachments": {},
   "cell_type": "markdown",
   "metadata": {},
   "source": [
    "# **k-nearesr neighbours**\n",
    "# By: Vivek Vittal Biragoni 211AI041 \n",
    "16/05/23\n"
   ]
  },
  {
   "attachments": {},
   "cell_type": "markdown",
   "metadata": {},
   "source": [
    "Import the necessary libraries:"
   ]
  },
  {
   "cell_type": "code",
   "execution_count": 34,
   "metadata": {},
   "outputs": [],
   "source": [
    "from sklearn.datasets import load_iris\n",
    "import numpy as np\n"
   ]
  },
  {
   "attachments": {},
   "cell_type": "markdown",
   "metadata": {},
   "source": [
    "Load the Iris dataset using the load_iris() function:"
   ]
  },
  {
   "cell_type": "code",
   "execution_count": 35,
   "metadata": {},
   "outputs": [],
   "source": [
    "iris = load_iris()\n",
    "X = iris.data  # Feature matrix\n",
    "y = iris.target  # Target variable\n"
   ]
  },
  {
   "attachments": {},
   "cell_type": "markdown",
   "metadata": {},
   "source": [
    "Define a function to compute the Euclidean distance between two data points:"
   ]
  },
  {
   "cell_type": "code",
   "execution_count": 36,
   "metadata": {},
   "outputs": [],
   "source": [
    "def euclidean_distance(point1, point2):\n",
    "    return np.sqrt(np.sum((point1 - point2) ** 2))\n"
   ]
  },
  {
   "attachments": {},
   "cell_type": "markdown",
   "metadata": {},
   "source": [
    "Notes:\n",
    "\n",
    "\n",
    "euclidean_distance(point1, point2): This function calculates the Euclidean distance between two data points. It takes two points as input and returns the Euclidean distance as a floating-point number."
   ]
  },
  {
   "attachments": {},
   "cell_type": "markdown",
   "metadata": {},
   "source": [
    "Define a function to find the k-nearest neighbors for a given data point:"
   ]
  },
  {
   "cell_type": "code",
   "execution_count": 37,
   "metadata": {},
   "outputs": [],
   "source": [
    "def k_nearest_neighbors(X, point, k):\n",
    "    distances = []\n",
    "    for i in range(len(X)):\n",
    "        distance = euclidean_distance(X[i], point)\n",
    "        distances.append((distance, i))\n",
    "    distances.sort()  # Sort distances in ascending order\n",
    "    neighbors = [distances[i][1] for i in range(k)]  # Get indices of k nearest neighbors\n",
    "    return neighbors\n"
   ]
  },
  {
   "attachments": {},
   "cell_type": "markdown",
   "metadata": {},
   "source": [
    "Notes\n",
    "\n",
    "k_nearest_neighbors(X, point, k): This function finds the k-nearest neighbors for a given data point. It takes the feature matrix X, a single data point point, and the value of k as input. It computes the Euclidean distance between the data point and all other points in X, sorts the distances in ascending order, and returns the indices of the k nearest neighbors."
   ]
  },
  {
   "cell_type": "markdown",
   "metadata": {},
   "source": [
    "Define a function to perform 10-fold cross-validation and evaluate the accuracy of k-nearest neighbors:"
   ]
  },
  {
   "cell_type": "code",
   "execution_count": 51,
   "metadata": {},
   "outputs": [],
   "source": [
    "def cross_validation(X, y, k):\n",
    "    fold_size = len(X) // 10\n",
    "    accuracies = []\n",
    "    for i in range(10):\n",
    "        # Split data into training and testing sets\n",
    "        test_indices = list(range(i * fold_size, (i + 1) * fold_size))\n",
    "        train_indices = list(set(range(len(X))) - set(test_indices))\n",
    "        X_train, X_test = X[train_indices], X[test_indices]\n",
    "        y_train, y_test = y[train_indices], y[test_indices]\n",
    "        \n",
    "        correct_predictions = 0\n",
    "        for j in range(len(X_test)):\n",
    "            neighbors = k_nearest_neighbors(X_train, X_test[j], k)\n",
    "            neighbor_labels = [y_train[idx] for idx in neighbors]\n",
    "            predicted_label = max(set(neighbor_labels), key=neighbor_labels.count)\n",
    "            if predicted_label == y_test[j]:\n",
    "                correct_predictions += 1\n",
    "\n",
    "            # Print nearest neighbors for random data points\n",
    "            if j == 0 :\n",
    "                print(f\"Test instance {j+1} - Nearest neighbors: {neighbors}\")\n",
    "            # print(f\"Test instance {j+1} - Nearest neighbors: {neighbors}\")\n",
    "        accuracy = correct_predictions / len(X_test)\n",
    "        accuracies.append(accuracy)\n",
    "        print(f\"Accuracy for fold {i + 1}: {accuracy:.2f}\")\n",
    "    \n",
    "    \n",
    "    mean_accuracy = np.mean(accuracies)\n",
    "    return mean_accuracy\n"
   ]
  },
  {
   "attachments": {},
   "cell_type": "markdown",
   "metadata": {},
   "source": [
    "Notes \n",
    "\n",
    "\n",
    "cross_validation(X, y, k): This function performs 10-fold cross-validation to evaluate the accuracy of the k-nearest neighbors algorithm. It takes the feature matrix X, target variable y, and the value of k as input. It splits the data into 10 folds, trains the k-nearest neighbors model on 9 folds, and evaluates its performance on the remaining fold. It computes the accuracy for each fold, prints the nearest neighbors for each test instance, and returns the average accuracy across all folds."
   ]
  },
  {
   "attachments": {},
   "cell_type": "markdown",
   "metadata": {},
   "source": [
    "Call the cross_validation() function with k=10 to compute the average accuracy using 10-fold cross-validation:"
   ]
  },
  {
   "cell_type": "code",
   "execution_count": 52,
   "metadata": {},
   "outputs": [
    {
     "name": "stdout",
     "output_type": "stream",
     "text": [
      "Test instance 1 - Nearest neighbors: [2, 25, 28, 24, 12, 11, 13, 6, 8, 22]\n",
      "Test instance 2 - Nearest neighbors: [10, 19, 30, 15, 20, 14, 34, 8, 32, 11]\n",
      "Test instance 3 - Nearest neighbors: [14, 32, 15, 9, 30, 19, 20, 27, 34, 11]\n",
      "Test instance 4 - Nearest neighbors: [32, 14, 15, 23, 27, 30, 19, 9, 10, 20]\n",
      "Test instance 5 - Nearest neighbors: [22, 25, 28, 2, 6, 11, 4, 29, 31, 24]\n",
      "Test instance 6 - Nearest neighbors: [1, 33, 17, 3, 18, 4, 29, 31, 6, 21]\n",
      "Test instance 7 - Nearest neighbors: [32, 7, 9, 14, 27, 15, 22, 11, 25, 28]\n",
      "Test instance 8 - Nearest neighbors: [11, 24, 25, 28, 34, 2, 8, 20, 9, 13]\n",
      "Test instance 9 - Nearest neighbors: [23, 27, 32, 30, 14, 15, 19, 10, 26, 9]\n",
      "Test instance 10 - Nearest neighbors: [19, 15, 10, 20, 30, 34, 14, 8, 11, 9]\n",
      "Test instance 11 - Nearest neighbors: [33, 1, 21, 12, 5, 16, 6, 3, 4, 29]\n",
      "Test instance 12 - Nearest neighbors: [9, 11, 14, 25, 28, 34, 22, 20, 32, 7]\n",
      "Test instance 13 - Nearest neighbors: [30, 15, 19, 10, 14, 20, 32, 34, 23, 9]\n",
      "Test instance 14 - Nearest neighbors: [23, 27, 32, 14, 30, 15, 19, 9, 7, 10]\n",
      "Test instance 15 - Nearest neighbors: [3, 18, 1, 0, 21, 33, 17, 70, 5, 16]\n",
      "Accuracy for fold 1: 1.00\n",
      "Test instance 1 - Nearest neighbors: [18, 14, 5, 17, 10, 33, 29, 31, 21, 16]\n",
      "Test instance 2 - Nearest neighbors: [5, 10, 33, 17, 18, 29, 31, 14, 21, 16]\n",
      "Test instance 3 - Nearest neighbors: [0, 25, 28, 24, 4, 7, 22, 34, 33, 29]\n",
      "Test instance 4 - Nearest neighbors: [14, 10, 5, 21, 33, 18, 16, 70, 17, 29]\n",
      "Test instance 5 - Nearest neighbors: [29, 31, 4, 33, 22, 0, 25, 28, 17, 10]\n",
      "Test instance 6 - Nearest neighbors: [16, 21, 10, 24, 33, 0, 69, 7, 25, 28]\n",
      "Test instance 7 - Nearest neighbors: [29, 31, 4, 0, 33, 22, 25, 28, 24, 10]\n",
      "Test instance 8 - Nearest neighbors: [6, 11, 22, 32, 4, 2, 25, 28, 27, 7]\n",
      "Test instance 9 - Nearest neighbors: [34, 24, 20, 7, 0, 25, 28, 9, 19, 11]\n",
      "Test instance 10 - Nearest neighbors: [11, 6, 7, 2, 25, 28, 34, 22, 20, 32]\n",
      "Test instance 11 - Nearest neighbors: [1, 9, 19, 12, 20, 30, 15, 34, 2, 44]\n",
      "Test instance 12 - Nearest neighbors: [7, 24, 25, 28, 34, 0, 20, 4, 11, 22]\n",
      "Test instance 13 - Nearest neighbors: [0, 24, 25, 28, 33, 4, 7, 16, 10, 34]\n",
      "Test instance 14 - Nearest neighbors: [24, 0, 7, 16, 25, 28, 34, 20, 4, 21]\n",
      "Test instance 15 - Nearest neighbors: [2, 32, 15, 3, 11, 6, 12, 30, 9, 19]\n",
      "Accuracy for fold 2: 1.00\n",
      "Test instance 1 - Nearest neighbors: [12, 30, 9, 2, 29, 1, 3, 25, 32, 34]\n",
      "Test instance 2 - Nearest neighbors: [20, 28, 27, 10, 33, 0, 17, 23, 69, 7]\n",
      "Test instance 3 - Nearest neighbors: [5, 16, 19, 31, 33, 21, 10, 4, 18, 15]\n",
      "Test instance 4 - Nearest neighbors: [15, 5, 16, 14, 18, 10, 33, 19, 31, 21]\n",
      "Test instance 5 - Nearest neighbors: [9, 1, 25, 12, 30, 34, 2, 29, 23, 3]\n",
      "Test instance 6 - Nearest neighbors: [34, 23, 9, 7, 26, 25, 1, 11, 24, 28]\n",
      "Test instance 7 - Nearest neighbors: [20, 10, 33, 27, 28, 18, 0, 17, 5, 16]\n",
      "Test instance 8 - Nearest neighbors: [4, 0, 17, 21, 7, 26, 11, 24, 19, 31]\n",
      "Test instance 9 - Nearest neighbors: [8, 13, 3, 32, 2, 29, 12, 30, 6, 1]\n",
      "Test instance 10 - Nearest neighbors: [7, 26, 0, 17, 23, 28, 34, 27, 4, 11]\n",
      "Test instance 11 - Nearest neighbors: [0, 17, 4, 7, 26, 27, 34, 21, 23, 11]\n",
      "Test instance 12 - Nearest neighbors: [42, 91, 78, 45, 8, 83, 13, 12, 30, 3]\n",
      "Test instance 13 - Nearest neighbors: [32, 3, 13, 6, 2, 29, 8, 11, 24, 12]\n",
      "Test instance 14 - Nearest neighbors: [0, 17, 4, 7, 26, 27, 34, 21, 23, 11]\n",
      "Test instance 15 - Nearest neighbors: [19, 31, 21, 4, 33, 0, 17, 27, 10, 5]\n",
      "Accuracy for fold 3: 1.00\n",
      "Test instance 1 - Nearest neighbors: [12, 30, 1, 9, 34, 25, 2, 29, 3, 35]\n",
      "Test instance 2 - Nearest neighbors: [19, 44, 21, 4, 37, 0, 17, 40, 43, 27]\n",
      "Test instance 3 - Nearest neighbors: [3, 2, 29, 42, 6, 30, 38, 11, 24, 12]\n",
      "Test instance 4 - Nearest neighbors: [10, 21, 5, 16, 19, 27, 44, 0, 17, 36]\n",
      "Test instance 5 - Nearest neighbors: [23, 35, 7, 26, 39, 40, 43, 9, 34, 0]\n",
      "Test instance 6 - Nearest neighbors: [105, 124, 126, 110, 128, 87, 97, 114, 109, 129]\n",
      "Test instance 7 - Nearest neighbors: [100, 95, 122, 85, 89, 101, 121, 132, 60, 133]\n",
      "Test instance 8 - Nearest neighbors: [124, 126, 105, 97, 128, 50, 71, 125, 87, 62]\n",
      "Test instance 9 - Nearest neighbors: [65, 66, 74, 54, 98, 75, 64, 79, 77, 83]\n",
      "Test instance 10 - Nearest neighbors: [113, 117, 96, 59, 89, 101, 118, 132, 60, 108]\n",
      "Test instance 11 - Nearest neighbors: [84, 99, 81, 106, 52, 67, 86, 127, 79, 49]\n",
      "Test instance 12 - Nearest neighbors: [85, 121, 133, 100, 95, 122, 70, 76, 89, 101]\n",
      "Test instance 13 - Nearest neighbors: [91, 78, 83, 45, 41, 65, 66, 1, 74, 25]\n",
      "Test instance 14 - Nearest neighbors: [60, 89, 101, 132, 62, 130, 59, 113, 117, 61]\n",
      "Test instance 15 - Nearest neighbors: [83, 75, 25, 69, 74, 91, 79, 106, 1, 65]\n",
      "Accuracy for fold 4: 0.60\n",
      "Test instance 1 - Nearest neighbors: [78, 57, 83, 91, 41, 53, 65, 66, 74, 59]\n",
      "Test instance 2 - Nearest neighbors: [134, 123, 63, 76, 112, 80, 81, 99, 55, 84]\n",
      "Test instance 3 - Nearest neighbors: [104, 72, 119, 98, 131, 77, 64, 68, 53, 65]\n",
      "Test instance 4 - Nearest neighbors: [63, 76, 112, 82, 123, 111, 88, 134, 68, 118]\n",
      "Test instance 5 - Nearest neighbors: [73, 106, 81, 55, 80, 84, 79, 69, 99, 67]\n",
      "Test instance 6 - Nearest neighbors: [71, 125, 62, 130, 97, 128, 60, 109, 129, 52]\n",
      "Test instance 7 - Nearest neighbors: [73, 80, 81, 69, 106, 55, 84, 99, 79, 134]\n",
      "Test instance 8 - Nearest neighbors: [67, 86, 127, 99, 77, 55, 84, 64, 68, 79]\n",
      "Test instance 9 - Nearest neighbors: [72, 104, 131, 119, 108, 68, 96, 77, 93, 98]\n",
      "Test instance 10 - Nearest neighbors: [74, 98, 65, 66, 75, 64, 79, 53, 77, 67]\n",
      "Test instance 11 - Nearest neighbors: [134, 70, 123, 76, 112, 80, 63, 133, 81, 73]\n",
      "Test instance 12 - Nearest neighbors: [111, 68, 63, 82, 119, 76, 112, 118, 108, 123]\n",
      "Test instance 13 - Nearest neighbors: [131, 72, 108, 119, 96, 118, 111, 113, 117, 54]\n",
      "Test instance 14 - Nearest neighbors: [111, 68, 63, 82, 119, 76, 112, 118, 108, 123]\n",
      "Test instance 15 - Nearest neighbors: [113, 117, 88, 54, 89, 101, 132, 118, 58, 96]\n",
      "Accuracy for fold 5: 0.53\n",
      "Test instance 1 - Nearest neighbors: [89, 101, 132, 58, 130, 65, 125, 97, 74, 122]\n",
      "Test instance 2 - Nearest neighbors: [97, 130, 58, 54, 93, 65, 125, 52, 124, 126]\n",
      "Test instance 3 - Nearest neighbors: [130, 97, 65, 125, 58, 89, 101, 132, 128, 52]\n",
      "Test instance 4 - Nearest neighbors: [63, 123, 61, 71, 73, 76, 112, 134, 82, 99]\n",
      "Test instance 5 - Nearest neighbors: [77, 98, 67, 86, 127, 69, 79, 55, 84, 75]\n",
      "Test instance 6 - Nearest neighbors: [53, 69, 75, 98, 79, 77, 106, 83, 59, 67]\n",
      "Test instance 7 - Nearest neighbors: [53, 69, 75, 98, 79, 77, 106, 83, 59, 67]\n",
      "Test instance 8 - Nearest neighbors: [67, 86, 127, 99, 77, 55, 84, 79, 81, 98]\n",
      "Test instance 9 - Nearest neighbors: [71, 73, 119, 67, 86, 127, 63, 99, 111, 77]\n",
      "Test instance 10 - Nearest neighbors: [66, 64, 106, 80, 81, 79, 55, 59, 84, 20]\n",
      "Test instance 11 - Nearest neighbors: [133, 70, 121, 56, 85, 123, 61, 76, 112, 134]\n",
      "Test instance 12 - Nearest neighbors: [65, 125, 130, 97, 128, 109, 129, 52, 124, 126]\n",
      "Test instance 13 - Nearest neighbors: [68, 72, 131, 62, 104, 119, 108, 96, 93, 118]\n",
      "Test instance 14 - Nearest neighbors: [66, 64, 80, 81, 106, 55, 84, 99, 79, 61]\n",
      "Test instance 15 - Nearest neighbors: [69, 75, 53, 98, 79, 106, 77, 55, 59, 67]\n",
      "Accuracy for fold 6: 0.60\n",
      "Test instance 1 - Nearest neighbors: [89, 69, 79, 80, 81, 106, 98, 55, 53, 64]\n",
      "Test instance 2 - Nearest neighbors: [112, 123, 63, 78, 61, 134, 71, 73, 111, 70]\n",
      "Test instance 3 - Nearest neighbors: [79, 67, 82, 127, 98, 99, 55, 69, 83, 106]\n",
      "Test instance 4 - Nearest neighbors: [57, 91, 60, 59, 41, 53, 80, 81, 89, 69]\n",
      "Test instance 5 - Nearest neighbors: [106, 55, 79, 64, 67, 69, 82, 127, 89, 99]\n",
      "Test instance 6 - Nearest neighbors: [66, 88, 64, 55, 61, 134, 99, 106, 70, 84]\n",
      "Test instance 7 - Nearest neighbors: [55, 64, 99, 66, 88, 106, 67, 82, 127, 61]\n",
      "Test instance 8 - Nearest neighbors: [111, 63, 118, 71, 73, 112, 74, 78, 108, 113]\n",
      "Test instance 9 - Nearest neighbors: [91, 57, 59, 89, 80, 81, 53, 69, 25, 60]\n",
      "Test instance 10 - Nearest neighbors: [55, 99, 106, 67, 82, 127, 64, 79, 66, 88]\n",
      "Test instance 11 - Nearest neighbors: [56, 121, 133, 51, 100, 95, 122, 85, 101, 112]\n",
      "Test instance 12 - Nearest neighbors: [67, 82, 127, 99, 55, 79, 83, 98, 106, 64]\n",
      "Test instance 13 - Nearest neighbors: [114, 52, 124, 126, 50, 92, 110, 105, 97, 76]\n",
      "Test instance 14 - Nearest neighbors: [118, 74, 111, 113, 117, 108, 63, 96, 54, 71]\n",
      "Test instance 15 - Nearest neighbors: [101, 132, 75, 58, 74, 122, 54, 77, 95, 130]\n",
      "Accuracy for fold 7: 0.87\n",
      "Test instance 1 - Nearest neighbors: [120, 107, 115, 114, 110, 102, 50, 52, 124, 126]\n",
      "Test instance 2 - Nearest neighbors: [57, 98, 93, 59, 41, 1, 25, 60, 12, 45]\n",
      "Test instance 3 - Nearest neighbors: [114, 115, 102, 110, 107, 120, 50, 52, 124, 126]\n",
      "Test instance 4 - Nearest neighbors: [76, 54, 72, 131, 58, 113, 117, 87, 108, 74]\n",
      "Test instance 5 - Nearest neighbors: [110, 50, 105, 128, 52, 124, 126, 109, 129, 114]\n",
      "Test instance 6 - Nearest neighbors: [51, 122, 104, 132, 56, 75, 100, 109, 129, 65]\n",
      "Test instance 7 - Nearest neighbors: [113, 117, 108, 54, 118, 74, 103, 111, 72, 131]\n",
      "Test instance 8 - Nearest neighbors: [77, 130, 65, 86, 125, 52, 124, 126, 75, 76]\n",
      "Test instance 9 - Nearest neighbors: [79, 69, 92, 89, 67, 82, 101, 127, 80, 81]\n",
      "Test instance 10 - Nearest neighbors: [55, 67, 82, 99, 101, 127, 96, 92, 106, 79]\n",
      "Test instance 11 - Nearest neighbors: [51, 122, 56, 100, 104, 121, 132, 75, 133, 74]\n",
      "Test instance 12 - Nearest neighbors: [104, 132, 75, 58, 74, 122, 54, 77, 130, 51]\n",
      "Test instance 13 - Nearest neighbors: [116, 110, 120, 50, 114, 105, 107, 102, 115, 52]\n",
      "Test instance 14 - Nearest neighbors: [107, 115, 120, 114, 102, 110, 50, 76, 52, 124]\n",
      "Test instance 15 - Nearest neighbors: [62, 68, 87, 119, 72, 131, 92, 79, 83, 69]\n",
      "Accuracy for fold 8: 0.53\n",
      "Test instance 1 - Nearest neighbors: [50, 52, 124, 126, 128, 129, 65, 86, 125, 112]\n",
      "Test instance 2 - Nearest neighbors: [94, 64, 55, 99, 96, 66, 88, 114, 90, 67]\n",
      "Test instance 3 - Nearest neighbors: [118, 120, 105, 107, 102, 50, 52, 124, 126, 76]\n",
      "Test instance 4 - Nearest neighbors: [111, 103, 72, 131, 97, 54, 71, 73, 74, 63]\n",
      "Test instance 5 - Nearest neighbors: [129, 128, 65, 86, 125, 110, 52, 124, 126, 77]\n",
      "Test instance 6 - Nearest neighbors: [50, 102, 52, 124, 126, 107, 109, 128, 105, 112]\n",
      "Test instance 7 - Nearest neighbors: [97, 71, 73, 103, 63, 83, 111, 74, 78, 91]\n",
      "Test instance 8 - Nearest neighbors: [91, 123, 63, 78, 97, 61, 134, 71, 73, 103]\n",
      "Test instance 9 - Nearest neighbors: [54, 111, 74, 103, 58, 104, 116, 132, 97, 75]\n",
      "Test instance 10 - Nearest neighbors: [102, 107, 50, 52, 124, 126, 105, 112, 76, 128]\n",
      "Test instance 11 - Nearest neighbors: [107, 105, 118, 120, 102, 50, 52, 124, 126, 76]\n",
      "Test instance 12 - Nearest neighbors: [117, 109, 120, 105, 50, 107, 102, 118, 52, 124]\n",
      "Test instance 13 - Nearest neighbors: [54, 111, 74, 103, 58, 104, 116, 132, 97, 75]\n",
      "Test instance 14 - Nearest neighbors: [103, 97, 111, 74, 54, 71, 73, 63, 91, 104]\n",
      "Test instance 15 - Nearest neighbors: [83, 71, 73, 72, 131, 63, 92, 78, 67, 82]\n",
      "Accuracy for fold 9: 0.47\n",
      "Test instance 1 - Nearest neighbors: [105, 122, 130, 118, 107, 129, 125, 102, 50, 109]\n",
      "Test instance 2 - Nearest neighbors: [56, 100, 51, 115, 110, 85, 124, 70, 91, 104]\n",
      "Test instance 3 - Nearest neighbors: [51, 115, 104, 110, 116, 74, 75, 56, 100, 103]\n",
      "Test instance 4 - Nearest neighbors: [61, 91, 127, 78, 63, 70, 71, 73, 97, 114]\n",
      "Test instance 5 - Nearest neighbors: [52, 120, 50, 112, 65, 86, 102, 77, 124, 125]\n",
      "Test instance 6 - Nearest neighbors: [65, 86, 77, 112, 75, 124, 52, 104, 110, 116]\n",
      "Test instance 7 - Nearest neighbors: [52, 120, 50, 112, 65, 86, 102, 77, 124, 125]\n",
      "Test instance 8 - Nearest neighbors: [67, 82, 101, 114, 92, 55, 99, 79, 83, 94]\n",
      "Test instance 9 - Nearest neighbors: [120, 124, 65, 86, 52, 50, 112, 77, 75, 110]\n",
      "Test instance 10 - Nearest neighbors: [124, 65, 86, 110, 120, 52, 77, 50, 51, 112]\n",
      "Test instance 11 - Nearest neighbors: [77, 112, 65, 86, 75, 58, 104, 116, 76, 52]\n",
      "Test instance 12 - Nearest neighbors: [72, 87, 123, 134, 111, 133, 68, 126, 128, 132]\n",
      "Test instance 13 - Nearest neighbors: [104, 116, 75, 58, 74, 54, 77, 110, 51, 115]\n",
      "Test instance 14 - Nearest neighbors: [56, 100, 85, 51, 115, 70, 110, 91, 127, 61]\n",
      "Test instance 15 - Nearest neighbors: [61, 78, 91, 127, 70, 95, 63, 96, 114, 71]\n",
      "Accuracy for fold 10: 0.20\n",
      "Average accuracy using 10-fold cross-validation: 0.68\n"
     ]
    }
   ],
   "source": [
    "k = 10\n",
    "accuracy = cross_validation(X, y, k)\n",
    "print(f\"Average accuracy using 10-fold cross-validation: {accuracy:.2f}\")\n"
   ]
  },
  {
   "cell_type": "code",
   "execution_count": 43,
   "metadata": {},
   "outputs": [
    {
     "data": {
      "image/png": "[encoded data removed]",
      "text/plain": [
       "<Figure size 640x480 with 1 Axes>"
      ]
     },
     "metadata": {},
     "output_type": "display_data"
    }
   ],
   "source": [
    "import numpy as np\n",
    "import matplotlib.pyplot as plt\n",
    "from matplotlib.colors import ListedColormap\n",
    "from sklearn.datasets import load_iris\n",
    "from sklearn.neighbors import KNeighborsClassifier\n",
    "\n",
    "# Define a function to plot the decision boundaries of the k-nearest neighbors algorithm\n",
    "def plot_decision_boundaries(X, y, k):\n",
    "    cmap_light = ListedColormap(['#FFAAAA', '#AAFFAA', '#AAAAFF'])\n",
    "    cmap_bold = ListedColormap(['#FF0000', '#00FF00', '#0000FF'])\n",
    "\n",
    "    h = 0.02  # step size in the mesh\n",
    "    x_min, x_max = X[:, 0].min() - 1, X[:, 0].max() + 1\n",
    "    y_min, y_max = X[:, 1].min() - 1, X[:, 1].max() + 1\n",
    "    xx, yy = np.meshgrid(np.arange(x_min, x_max, h), np.arange(y_min, y_max, h))\n",
    "    \n",
    "    # Create an instance of k-nearest neighbors classifier\n",
    "    clf = KNeighborsClassifier(n_neighbors=k)\n",
    "    clf.fit(X, y)\n",
    "    \n",
    "    # Predict the class labels for all points in the mesh\n",
    "    Z = clf.predict(np.c_[xx.ravel(), yy.ravel()])\n",
    "    Z = Z.reshape(xx.shape)\n",
    "    \n",
    "    # Plot the decision boundaries and data points\n",
    "    plt.figure()\n",
    "    plt.pcolormesh(xx, yy, Z, cmap=cmap_light)\n",
    "    plt.scatter(X[:, 0], X[:, 1], c=y, cmap=cmap_bold, edgecolor='k', s=20)\n",
    "    plt.xlim(xx.min(), xx.max())\n",
    "    plt.ylim(yy.min(), yy.max())\n",
    "    plt.title(f\"Decision boundaries (k={k})\")\n",
    "    plt.xlabel('Feature 1')\n",
    "    plt.ylabel('Feature 2')\n",
    "    plt.show()\n",
    "\n",
    "# Load the Iris dataset\n",
    "iris = load_iris()\n",
    "X = iris.data[:, :2]  # Consider only the first two features for visualization\n",
    "y = iris.target\n",
    "\n",
    "# Set the value of k\n",
    "k = 10\n",
    "\n",
    "# Plot the decision boundaries of the k-nearest neighbors algorithm\n",
    "plot_decision_boundaries(X, y, k)\n"
   ]
  },
  {
   "attachments": {},
   "cell_type": "markdown",
   "metadata": {},
   "source": [
    "To visualize the decision boundaries of the k-nearest neighbors algorithm on the Iris dataset, the following steps are taken:\n",
    "\n",
    "1. Import the necessary libraries:\n",
    "   - `numpy` for numerical computations\n",
    "   - `matplotlib.pyplot` for data visualization\n",
    "   - `matplotlib.colors.ListedColormap` for custom color maps\n",
    "   - `sklearn.datasets.load_iris` to load the Iris dataset\n",
    "   - `sklearn.neighbors.KNeighborsClassifier` for the k-nearest neighbors classifier\n",
    "\n",
    "2. Define the function `plot_decision_boundaries`:\n",
    "   - Takes feature matrix `X`, target vector `y`, and value of `k` as input\n",
    "   - Creates a meshgrid to cover the feature space\n",
    "   - Sets up color maps for plotting\n",
    "   - Sets the step size for the meshgrid\n",
    "   - Determines the minimum and maximum values for the x and y axes\n",
    "   - Creates the meshgrid using `np.meshgrid` based on the minimum and maximum values\n",
    "   - Creates an instance of `KNeighborsClassifier` with `n_neighbors` set to `k`\n",
    "   - Fits the classifier on the feature matrix `X` and target vector `y`\n",
    "   - Predicts the class labels for all points in the mesh using `clf.predict`\n",
    "   - Reshapes the predicted labels to match the meshgrid shape\n",
    "   - Plots the decision boundaries using `plt.pcolormesh`\n",
    "   - Plots the data points using `plt.scatter`\n",
    "   - Sets the x and y limits of the plot\n",
    "   - Adds a title, x-label, and y-label to the plot\n",
    "   - Displays the plot using `plt.show`\n",
    "\n",
    "3. Load the Iris dataset using `load_iris` from `sklearn.datasets` module.\n",
    "\n",
    "4. Select the first two features of the dataset for visualization.\n",
    "\n",
    "5. Set the value of `k` to 10.\n",
    "\n",
    "6. Call the `plot_decision_boundaries` function with the feature matrix `X`, target vector `y`, and value of `k`.\n",
    "\n",
    "The resulting plot shows the decision boundaries of the k-nearest neighbors algorithm along with the data points from the Iris dataset. It helps visualize how the algorithm classifies the different classes in the dataset based on the chosen features and the value of `k`."
   ]
  },
  {
   "attachments": {},
   "cell_type": "markdown",
   "metadata": {},
   "source": [
    "# **K-Nearest Neighbors (KNN)**\n",
    "K-Nearest Neighbors (KNN) is a simple yet powerful supervised machine learning algorithm that can be used for both classification and regression tasks. Here are some key points about KNN:\n",
    "\n",
    "1. Principle: KNN is based on the principle that objects or data points that are close to each other in a feature space are likely to belong to the same class or have similar properties.\n",
    "\n",
    "2. Training: KNN does not involve explicit training. Instead, it stores the entire training dataset and uses it during the prediction phase.\n",
    "\n",
    "3. Distance Metric: KNN measures the similarity between data points using a distance metric, commonly the Euclidean distance. Other distance metrics like Manhattan distance or Minkowski distance can also be used.\n",
    "\n",
    "4. Hyperparameter K: KNN requires specifying the value of K, which represents the number of nearest neighbors to consider. The choice of K affects the model's bias-variance trade-off. Smaller K values result in more complex decision boundaries, while larger K values result in smoother decision boundaries.\n",
    "\n",
    "5. Prediction: To make a prediction for a new data point, KNN finds the K nearest neighbors based on the distance metric and assigns the class label based on the majority vote among the neighbors (for classification) or calculates the mean (for regression).\n",
    "\n",
    "6. Feature Scaling: Feature scaling is often necessary in KNN because it is sensitive to the scales of different features. Rescaling the features to a common scale can improve the performance of KNN.\n",
    "\n",
    "7. Curse of Dimensionality: KNN can be affected by the curse of dimensionality, where the distance between data points becomes less meaningful as the number of dimensions increases. In high-dimensional spaces, KNN may not perform as well, and dimensionality reduction techniques can be used.\n",
    "\n",
    "8. Pros:\n",
    "   - Simple to understand and implement.\n",
    "   - Non-parametric model, so it can handle complex decision boundaries.\n",
    "   - Can be used for both classification and regression tasks.\n",
    "   - Robust to noisy data.\n",
    "\n",
    "9. Cons:\n",
    "   - Can be computationally expensive when dealing with large datasets.\n",
    "   - Requires storing the entire training dataset.\n",
    "   - Sensitive to the choice of K and the distance metric.\n",
    "   - Doesn't provide insight into the underlying relationships between features.\n",
    "\n",
    "10. Use Cases: KNN is commonly used in various domains, including pattern recognition, image classification, document classification, recommendation systems, and anomaly detection.\n",
    "\n",
    "Overall, KNN is a versatile algorithm that is easy to understand and implement. It is suitable for smaller datasets and can be a good starting point for classification and regression tasks, especially when there is no prior knowledge about the data distribution."
   ]
  },
  {
   "cell_type": "markdown",
   "metadata": {},
   "source": []
  }
 ],
 "metadata": {
  "kernelspec": {
   "display_name": "Python 3",
   "language": "python",
   "name": "python3"
  },
  "language_info": {
   "codemirror_mode": {
    "name": "ipython",
    "version": 3
   },
   "file_extension": ".py",
   "mimetype": "text/x-python",
   "name": "python",
   "nbconvert_exporter": "python",
   "pygments_lexer": "ipython3",
   "version": "3.10.11"
  },
  "orig_nbformat": 4
 },
 "nbformat": 4,
 "nbformat_minor": 2
}
