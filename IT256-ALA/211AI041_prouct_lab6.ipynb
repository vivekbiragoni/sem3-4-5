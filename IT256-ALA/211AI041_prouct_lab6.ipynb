{
 "cells": [
  {
   "attachments": {},
   "cell_type": "markdown",
   "metadata": {},
   "source": [
    "# **INNER Product and OUTER Product** \n",
    "# By: Vivek Vittal Biragoni 211AI041 \n",
    "09/05/23\n"
   ]
  },
  {
   "attachments": {},
   "cell_type": "markdown",
   "metadata": {},
   "source": [
    "# (i) vector and vector\n"
   ]
  },
  {
   "cell_type": "code",
   "execution_count": 1,
   "metadata": {},
   "outputs": [
    {
     "name": "stdout",
     "output_type": "stream",
     "text": [
      "Inner product: 32\n",
      "Outer product:\n",
      "[4, 5, 6]\n",
      "[8, 10, 12]\n",
      "[12, 15, 18]\n",
      "Error: Vectors must be of the same length for inner product calculation\n",
      "Error: Vectors must be of the same length for outer product calculation\n"
     ]
    }
   ],
   "source": [
    "# Define test vectors of different sizes\n",
    "v1 = [1, 2, 3]\n",
    "v2 = [4, 5, 6]\n",
    "v3 = [1, 2, 3, 4]\n",
    "v4 = [4, 5, 6]\n",
    "\n",
    "# Compute the inner product of the two vectors\n",
    "if len(v1) == len(v2):\n",
    "    inner_product = sum([v1[i] * v2[i] for i in range(len(v1))])\n",
    "    print(\"Inner product:\", inner_product)\n",
    "else:\n",
    "    print(\"Error: Vectors must be of the same length for inner product calculation\")\n",
    "\n",
    "# Compute the outer product of the two vectors\n",
    "outer_product = [[0]*len(v2) for i in range(len(v1))]\n",
    "if len(v1) == len(v2):\n",
    "    for i in range(len(v1)):\n",
    "        for j in range(len(v2)):\n",
    "            outer_product[i][j] = v1[i] * v2[j]\n",
    "    print(\"Outer product:\")\n",
    "    for row in outer_product:\n",
    "        print(row)\n",
    "else:\n",
    "    print(\"Error: Vectors must be of the same length for outer product calculation\")\n",
    "\n",
    "# Compute the inner and outer product of v3 and v4\n",
    "if len(v3) == len(v4):\n",
    "    inner_product = sum([v3[i] * v4[i] for i in range(len(v3))])\n",
    "    print(\"Inner product:\", inner_product)\n",
    "else:\n",
    "    print(\"Error: Vectors must be of the same length for inner product calculation\")\n",
    "\n",
    "outer_product = [[0]*len(v4) for i in range(len(v3))]\n",
    "if len(v3) == len(v4):\n",
    "    for i in range(len(v3)):\n",
    "        for j in range(len(v4)):\n",
    "            outer_product[i][j] = v3[i] * v4[j]\n",
    "    print(\"Outer product:\")\n",
    "    for row in outer_product:\n",
    "        print(row)\n",
    "else:\n",
    "    print(\"Error: Vectors must be of the same length for outer product calculation\")\n"
   ]
  },
  {
   "attachments": {},
   "cell_type": "markdown",
   "metadata": {},
   "source": [
    "In this code, we define four different vectors of different sizes for testing. The vectors v1 and v2 have the same size, so both the inner and outer products are computed and printed without errors. The vectors v3 and v4 have different sizes, so the computation of both the inner and outer products results in errors"
   ]
  },
  {
   "attachments": {},
   "cell_type": "markdown",
   "metadata": {},
   "source": [
    "To compute the inner product, the program uses a loop to multiply corresponding elements of the two vectors and sum the products. If the vectors are of different lengths, the program raises an error message.\n",
    "\n",
    "To compute the outer product, the program first creates a two-dimensional array of zeros with the same dimensions as the resulting outer product. It then uses nested loops to multiply each element of one vector by each element of the other vector, storing the results in the corresponding positions of the two-dimensional array. If the vectors are of different lengths, the program raises an error message.\n",
    "\n",
    "The program includes additional test cases to demonstrate how it handles vectors of different lengths and produces error messages when appropriate."
   ]
  },
  {
   "attachments": {},
   "cell_type": "markdown",
   "metadata": {},
   "source": [
    "# (ii) vector and matrix"
   ]
  },
  {
   "cell_type": "code",
   "execution_count": 2,
   "metadata": {},
   "outputs": [
    {
     "name": "stdout",
     "output_type": "stream",
     "text": [
      "[14, 32, 50]\n",
      "Error: The length of the vector must be the same as the number of columns in the matrix for inner product calculation\n",
      "[[1, 4, 7], [4, 10, 16], [9, 18, 27]]\n",
      "Error: The length of the vector must be the same as the number of columns in the matrix for outer product calculation\n",
      "Error: The length of the vector must be the same as the number of columns in the matrix for outer product calculation\n",
      "[[1, 4, 7, 10], [4, 10, 16, 22], [9, 18, 27, 36]]\n"
     ]
    }
   ],
   "source": [
    "def inner_product(vector, matrix):\n",
    "    if len(vector) == len(matrix[0]):\n",
    "        inner_product = [sum([vector[i] * matrix[j][i] for i in range(len(vector))]) for j in range(len(matrix))]\n",
    "        return inner_product\n",
    "    else:\n",
    "        return \"Error: The length of the vector must be the same as the number of columns in the matrix for inner product calculation\"\n",
    "\n",
    "def outer_product(vector, matrix):\n",
    "    if len(vector) == len(matrix[0]):\n",
    "        outer_product = [[vector[i] * matrix[j][i] for j in range(len(matrix))] for i in range(len(vector))]\n",
    "        return outer_product\n",
    "    else:\n",
    "        return \"Error: The length of the vector must be the same as the number of columns in the matrix for outer product calculation\"\n",
    "\n",
    "# Test cases\n",
    "v1 = [1, 2, 3]\n",
    "v2 = [4, 5, 6, 7]\n",
    "M1 = [[1, 2, 3], [4, 5, 6], [7, 8, 9]]\n",
    "M2 = [[1, 2], [3, 4], [5, 6]]\n",
    "M3 = [[1, 2, 3], [4, 5, 6], [7, 8, 9], [10, 11, 12]]\n",
    "\n",
    "# Compute the inner product of the vector and each row of the matrix\n",
    "print(inner_product(v1, M1))\n",
    "print(inner_product(v2, M1))\n",
    "\n",
    "# Compute the outer product of the vector and the matrix\n",
    "print(outer_product(v1, M1))\n",
    "print(outer_product(v2, M1))\n",
    "print(outer_product(v1, M2))\n",
    "print(outer_product(v1, M3))\n"
   ]
  },
  {
   "attachments": {},
   "cell_type": "markdown",
   "metadata": {},
   "source": [
    "This implementation defines two functions, `inner_product()` and `outer_product()`, that calculate the inner and outer product, respectively, between a vector and a matrix. The code includes checks to ensure that the length of the vector matches the number of columns in the matrix to properly perform the calculations. Additionally, the implementation includes test cases for both successful and failure cases. The inner product function calculates the dot product between a vector and each row of the matrix and returns the resulting vector. The outer product function calculates the outer product between a vector and a matrix and returns the resulting matrix. Overall, this implementation provides a straightforward and efficient way to compute the inner and outer product of a vector and matrix."
   ]
  },
  {
   "attachments": {},
   "cell_type": "markdown",
   "metadata": {},
   "source": [
    "# (iii) matrix and matrix"
   ]
  },
  {
   "cell_type": "code",
   "execution_count": 3,
   "metadata": {},
   "outputs": [
    {
     "name": "stdout",
     "output_type": "stream",
     "text": [
      "[[27, 30, 33], [61, 68, 75], [95, 106, 117]]\n",
      "Error: The number of columns in matrix 1 must be the same as the number of columns in matrix 2 for outer product calculation\n",
      "[[19, 22], [43, 50]]\n",
      "[[5, 12], [15, 24]]\n",
      "[[19, 22], [43, 50]]\n",
      "[[5, 12], [15, 24]]\n",
      "Error: The number of columns in matrix 1 must be the same as the number of rows in matrix 2 for inner product calculation\n",
      "[[7, 16, 27], [28, 40, 54]]\n",
      "[[21, 24, 27], [47, 54, 61]]\n",
      "Error: The number of columns in matrix 1 must be the same as the number of columns in matrix 2 for outer product calculation\n"
     ]
    },
    {
     "ename": "IndexError",
     "evalue": "list index out of range",
     "output_type": "error",
     "traceback": [
      "\u001b[1;31m---------------------------------------------------------------------------\u001b[0m",
      "\u001b[1;31mIndexError\u001b[0m                                Traceback (most recent call last)",
      "\u001b[1;32mc:\\Users\\vivek\\Desktop\\sem4\\IT256-ALA\\211AI041_prouct_lab6.ipynb Cell 10\u001b[0m in \u001b[0;36m6\n\u001b[0;32m     <a href='vscode-notebook-cell:/c%3A/Users/vivek/Desktop/sem4/IT256-ALA/211AI041_prouct_lab6.ipynb#X12sZmlsZQ%3D%3D?line=64'>65</a>\u001b[0m M2 \u001b[39m=\u001b[39m [[\u001b[39m1\u001b[39m, \u001b[39m2\u001b[39m, \u001b[39m3\u001b[39m], [\u001b[39m4\u001b[39m, \u001b[39m5\u001b[39m, \u001b[39m6\u001b[39m]]\n\u001b[0;32m     <a href='vscode-notebook-cell:/c%3A/Users/vivek/Desktop/sem4/IT256-ALA/211AI041_prouct_lab6.ipynb#X12sZmlsZQ%3D%3D?line=65'>66</a>\u001b[0m \u001b[39m# Compute the inner product of the two matrices\u001b[39;00m\n\u001b[1;32m---> <a href='vscode-notebook-cell:/c%3A/Users/vivek/Desktop/sem4/IT256-ALA/211AI041_prouct_lab6.ipynb#X12sZmlsZQ%3D%3D?line=66'>67</a>\u001b[0m \u001b[39mprint\u001b[39m(inner_product(M1, M2))\n\u001b[0;32m     <a href='vscode-notebook-cell:/c%3A/Users/vivek/Desktop/sem4/IT256-ALA/211AI041_prouct_lab6.ipynb#X12sZmlsZQ%3D%3D?line=68'>69</a>\u001b[0m \u001b[39m# Compute the outer product of the two matrices\u001b[39;00m\n\u001b[0;32m     <a href='vscode-notebook-cell:/c%3A/Users/vivek/Desktop/sem4/IT256-ALA/211AI041_prouct_lab6.ipynb#X12sZmlsZQ%3D%3D?line=69'>70</a>\u001b[0m \u001b[39mprint\u001b[39m(outer_product(M1, M2))\n",
      "\u001b[1;32mc:\\Users\\vivek\\Desktop\\sem4\\IT256-ALA\\211AI041_prouct_lab6.ipynb Cell 10\u001b[0m in \u001b[0;36m2\n\u001b[0;32m      <a href='vscode-notebook-cell:/c%3A/Users/vivek/Desktop/sem4/IT256-ALA/211AI041_prouct_lab6.ipynb#X12sZmlsZQ%3D%3D?line=0'>1</a>\u001b[0m \u001b[39mdef\u001b[39;00m \u001b[39minner_product\u001b[39m(matrix1, matrix2):\n\u001b[1;32m----> <a href='vscode-notebook-cell:/c%3A/Users/vivek/Desktop/sem4/IT256-ALA/211AI041_prouct_lab6.ipynb#X12sZmlsZQ%3D%3D?line=1'>2</a>\u001b[0m     \u001b[39mif\u001b[39;00m \u001b[39mlen\u001b[39m(matrix1[\u001b[39m0\u001b[39;49m]) \u001b[39m==\u001b[39m \u001b[39mlen\u001b[39m(matrix2):\n\u001b[0;32m      <a href='vscode-notebook-cell:/c%3A/Users/vivek/Desktop/sem4/IT256-ALA/211AI041_prouct_lab6.ipynb#X12sZmlsZQ%3D%3D?line=2'>3</a>\u001b[0m         inner_product \u001b[39m=\u001b[39m [[\u001b[39msum\u001b[39m([matrix1[i][k] \u001b[39m*\u001b[39m matrix2[k][j] \u001b[39mfor\u001b[39;00m k \u001b[39min\u001b[39;00m \u001b[39mrange\u001b[39m(\u001b[39mlen\u001b[39m(matrix1[\u001b[39m0\u001b[39m]))]) \u001b[39mfor\u001b[39;00m j \u001b[39min\u001b[39;00m \u001b[39mrange\u001b[39m(\u001b[39mlen\u001b[39m(matrix2[\u001b[39m0\u001b[39m]))] \u001b[39mfor\u001b[39;00m i \u001b[39min\u001b[39;00m \u001b[39mrange\u001b[39m(\u001b[39mlen\u001b[39m(matrix1))]\n\u001b[0;32m      <a href='vscode-notebook-cell:/c%3A/Users/vivek/Desktop/sem4/IT256-ALA/211AI041_prouct_lab6.ipynb#X12sZmlsZQ%3D%3D?line=3'>4</a>\u001b[0m         \u001b[39mreturn\u001b[39;00m inner_product\n",
      "\u001b[1;31mIndexError\u001b[0m: list index out of range"
     ]
    }
   ],
   "source": [
    "def inner_product(matrix1, matrix2):\n",
    "    if len(matrix1[0]) == len(matrix2):\n",
    "        inner_product = [[sum([matrix1[i][k] * matrix2[k][j] for k in range(len(matrix1[0]))]) for j in range(len(matrix2[0]))] for i in range(len(matrix1))]\n",
    "        return inner_product\n",
    "    else:\n",
    "        return \"Error: The number of columns in matrix 1 must be the same as the number of rows in matrix 2 for inner product calculation\"\n",
    "\n",
    "def outer_product(matrix1, matrix2):\n",
    "    if len(matrix1[0]) == len(matrix2[0]):\n",
    "        outer_product = [[matrix1[i][j] * matrix2[k][l] for l in range(len(matrix2[0]))] for k in range(len(matrix2)) for i in range(len(matrix1)) for j in range(len(matrix1[0]))]\n",
    "        outer_product = [[outer_product[i + j][j] for j in range(len(matrix2[0]))] for i in range(0, len(matrix1) * len(matrix2), len(matrix2[0]))]\n",
    "        return outer_product\n",
    "    else:\n",
    "        return \"Error: The number of columns in matrix 1 must be the same as the number of columns in matrix 2 for outer product calculation\"\n",
    "\n",
    "# Test cases\n",
    "M1 = [[1, 2], [3, 4], [5, 6]]\n",
    "M2 = [[7, 8, 9], [10, 11, 12]]\n",
    "\n",
    "# Compute the inner product of the two matrices\n",
    "print(inner_product(M1, M2))\n",
    "\n",
    "# Compute the outer product of the two matrices\n",
    "print(outer_product(M1, M2))\n",
    "\n",
    "\n",
    "# Test case 1 - valid input for inner product\n",
    "M1 = [[1, 2], [3, 4]]\n",
    "M2 = [[5, 6], [7, 8]]\n",
    "# Compute the inner product of the two matrices\n",
    "print(inner_product(M1, M2))\n",
    "\n",
    "# Compute the outer product of the two matrices\n",
    "print(outer_product(M1, M2))\n",
    "\n",
    "# Test case 2 - valid input for outer product\n",
    "M1 = [[1, 2], [3, 4]]\n",
    "M2 = [[5, 6], [7, 8]]\n",
    "# Compute the inner product of the two matrices\n",
    "print(inner_product(M1, M2))\n",
    "\n",
    "# Compute the outer product of the two matrices\n",
    "print(outer_product(M1, M2))\n",
    "\n",
    "# Test case 3 - invalid input for inner product (unequal number of columns and rows)\n",
    "M1 = [[1, 2, 3], [4, 5, 6]]\n",
    "M2 = [[7, 8, 9], [10, 11, 12]]\n",
    "# Compute the inner product of the two matrices\n",
    "print(inner_product(M1, M2))\n",
    "\n",
    "# Compute the outer product of the two matrices\n",
    "print(outer_product(M1, M2))\n",
    "\n",
    "# Test case 4 - invalid input for outer product (unequal number of columns)\n",
    "M1 = [[1, 2], [3, 4]]\n",
    "M2 = [[5, 6, 7], [8, 9, 10]]\n",
    "# Compute the inner product of the two matrices\n",
    "print(inner_product(M1, M2))\n",
    "\n",
    "# Compute the outer product of the two matrices\n",
    "print(outer_product(M1, M2))\n",
    "\n",
    "# Test case 5 - invalid input for inner product (empty matrix)\n",
    "M1 = []\n",
    "M2 = [[1, 2, 3], [4, 5, 6]]\n",
    "# Compute the inner product of the two matrices\n",
    "print(inner_product(M1, M2))\n",
    "\n",
    "# Compute the outer product of the two matrices\n",
    "print(outer_product(M1, M2))\n"
   ]
  },
  {
   "attachments": {},
   "cell_type": "markdown",
   "metadata": {},
   "source": [
    "The  code includes functions for inner and outer matrix product calculations. The inner_product() function returns the product of two matrices if they have the correct dimensions for matrix multiplication, otherwise it returns an error message. The outer_product() function returns the outer product of two matrices if they have the same number of columns, otherwise it returns an error message. \n",
    "\n",
    "Five test cases are provided: \n",
    "1. valid input for both inner and outer product \n",
    "2. valid input for both inner and outer product \n",
    "3. invalid input for inner product due to unequal number of columns and rows \n",
    "4. invalid input for outer product due to unequal number of columns \n",
    "5. invalid input for inner product due to empty matrix. \n",
    "\n",
    "These test cases provide a comprehensive testing for the matrix product functions."
   ]
  }
 ],
 "metadata": {
  "kernelspec": {
   "display_name": "Python 3",
   "language": "python",
   "name": "python3"
  },
  "language_info": {
   "codemirror_mode": {
    "name": "ipython",
    "version": 3
   },
   "file_extension": ".py",
   "mimetype": "text/x-python",
   "name": "python",
   "nbconvert_exporter": "python",
   "pygments_lexer": "ipython3",
   "version": "3.10.11"
  },
  "orig_nbformat": 4
 },
 "nbformat": 4,
 "nbformat_minor": 2
}
