{
 "cells": [
  {
   "attachments": {},
   "cell_type": "markdown",
   "metadata": {},
   "source": [
    "# **CSP**\n",
    "**BY: Vivek Vittal Biragoni, 211AI041**\n",
    "\n",
    "19/05/2023"
   ]
  },
  {
   "cell_type": "code",
   "execution_count": 1,
   "metadata": {},
   "outputs": [
    {
     "name": "stdout",
     "output_type": "stream",
     "text": [
      "TSP path: ['Arad', 'Eforie', 'Dobreta', 'Bucharest', 'Craiova', 'Arad']\n"
     ]
    }
   ],
   "source": [
    "def tsp(adj_matrix, city_names):\n",
    "    num_cities = len(city_names)\n",
    "    visited = [False] * num_cities\n",
    "    path = []\n",
    "\n",
    "    # Start from the first city\n",
    "    current_city = 0\n",
    "    visited[current_city] = True\n",
    "    path.append(city_names[current_city])\n",
    "\n",
    "    # Visit the remaining cities\n",
    "    for _ in range(num_cities - 1):\n",
    "        nearest_city = None\n",
    "        min_distance = float('inf')\n",
    "\n",
    "        # Find the nearest unvisited city\n",
    "        for neighbor_city in range(num_cities):\n",
    "            if not visited[neighbor_city] and adj_matrix[current_city][neighbor_city] < min_distance:\n",
    "                nearest_city = neighbor_city\n",
    "                min_distance = adj_matrix[current_city][neighbor_city]\n",
    "\n",
    "        # Mark the nearest city as visited and add it to the path\n",
    "        visited[nearest_city] = True\n",
    "        path.append(city_names[nearest_city])\n",
    "        current_city = nearest_city\n",
    "\n",
    "    # Return to the starting city\n",
    "    path.append(city_names[0])\n",
    "\n",
    "    return path\n",
    "\n",
    "\n",
    "# Example usage\n",
    "adj_matrix = [\n",
    "    [0, 15, 13, 16, 12],\n",
    "    [15, 0, 14, 11, 17],\n",
    "    [13, 14, 0, 19, 18],\n",
    "    [16, 11, 19, 0, 14],\n",
    "    [12, 17, 18, 14, 0]\n",
    "]\n",
    "city_names = [\"Arad\", \"Bucharest\", \"Craiova\", \"Dobreta\", \"Eforie\"]\n",
    "\n",
    "tsp_path = tsp(adj_matrix, city_names)\n",
    "print(\"TSP path:\", tsp_path)\n"
   ]
  },
  {
   "attachments": {},
   "cell_type": "markdown",
   "metadata": {},
   "source": [
    "# NOTES:\n",
    "The algorithm used in the provided code is a greedy algorithm called the nearest neighbor heuristic. It starts from a randomly selected city and repeatedly selects the nearest unvisited city until all cities have been visited. \n",
    "\n",
    "The algorithm maintains a list of visited cities and a path that represents the order in which the cities are visited. It initializes the current city as the starting city, marks it as visited, and appends it to the path. \n",
    "\n",
    "In each iteration, the algorithm looks for the nearest unvisited city to the current city by comparing the distances in the adjacency matrix. It selects the city with the minimum distance and updates the current city to the nearest city. The nearest city is then marked as visited and added to the path.\n",
    "\n",
    "This process continues until all cities have been visited. Finally, the algorithm adds the starting city back to the path to complete the tour.\n",
    "\n",
    "The nearest neighbor heuristic is a simple and efficient approach to approximate the solution for the TSP. However, it does not guarantee finding the optimal solution."
   ]
  },
  {
   "cell_type": "code",
   "execution_count": 2,
   "metadata": {},
   "outputs": [
    {
     "name": "stderr",
     "output_type": "stream",
     "text": [
      "C:\\Users\\vivek\\AppData\\Local\\Packages\\PythonSoftwareFoundation.Python.3.10_qbz5n2kfra8p0\\LocalCache\\local-packages\\Python310\\site-packages\\sklearn\\cluster\\_kmeans.py:870: FutureWarning: The default value of `n_init` will change from 10 to 'auto' in 1.4. Set the value of `n_init` explicitly to suppress the warning\n",
      "  warnings.warn(\n"
     ]
    },
    {
     "name": "stdout",
     "output_type": "stream",
     "text": [
      "Sum of squared distances: 59.0\n",
      "Airport locations: [[1.73205081 3.99804449 3.92409598 3.87082869 1.73205081]\n",
      " [3.60555128 3.74165739 0.         4.35889894 4.24264069]\n",
      " [3.93649167 1.6583124  4.05027817 1.6583124  3.93238151]]\n"
     ]
    }
   ],
   "source": [
    "from sklearn.cluster import KMeans\n",
    "import numpy as np\n",
    "\n",
    "def minimize_squared_distances(adj_matrix, city_names, num_airports):\n",
    "    # Convert the adjacency matrix to a distance matrix\n",
    "    distance_matrix = np.sqrt(adj_matrix)\n",
    "\n",
    "    # Perform k-means clustering to find the optimal airport locations\n",
    "    kmeans = KMeans(n_clusters=num_airports, random_state=0)\n",
    "    kmeans.fit(distance_matrix)\n",
    "\n",
    "    # Find the nearest airport for each city\n",
    "    nearest_airports = kmeans.predict(distance_matrix)\n",
    "\n",
    "    # Calculate the sum of squared distances from each city to its nearest airport\n",
    "    sum_squared_distances = 0\n",
    "    for city_idx, city_name in enumerate(city_names):\n",
    "        nearest_airport_idx = nearest_airports[city_idx]\n",
    "        nearest_airport_distance = distance_matrix[city_idx][nearest_airport_idx]\n",
    "        sum_squared_distances += nearest_airport_distance ** 2\n",
    "\n",
    "    # Get the coordinates of the airport locations\n",
    "    airport_locations = kmeans.cluster_centers_\n",
    "\n",
    "    return sum_squared_distances, airport_locations\n",
    "\n",
    "\n",
    "# Example usage\n",
    "num_airports = 3\n",
    "\n",
    "sum_squared_distances, airport_locations = minimize_squared_distances(adj_matrix, city_names, num_airports)\n",
    "print(\"Sum of squared distances:\", sum_squared_distances)\n",
    "print(\"Airport locations:\", airport_locations)\n"
   ]
  },
  {
   "cell_type": "markdown",
   "metadata": {},
   "source": [
    "We want to find the best locations for three new airports on a map. We have a list of cities and their distances from each other. We will use a special method called K-means clustering to help us.\n",
    "\n",
    "First, we will convert the list of distances into a different kind of list called a distance matrix. Then, we will use K-means clustering to find the best places to put the airports. K-means clustering is like grouping similar things together.\n",
    "\n",
    "After finding the airport locations, we will calculate the sum of squared distances from each city to its nearest airport. This helps us measure how close each city is to its nearest airport.\n",
    "\n",
    "In the end, we will get two things: the sum of squared distances, which tells us how good our airport placements are, and the coordinates of the airport locations on the map.\n",
    "\n",
    "By using this method, we can find the best places to put the airports and make sure that cities are as close as possible to their nearest airport."
   ]
  },
  {
   "cell_type": "markdown",
   "metadata": {},
   "source": []
  },
  {
   "cell_type": "markdown",
   "metadata": {},
   "source": []
  }
 ],
 "metadata": {
  "kernelspec": {
   "display_name": "Python 3",
   "language": "python",
   "name": "python3"
  },
  "language_info": {
   "codemirror_mode": {
    "name": "ipython",
    "version": 3
   },
   "file_extension": ".py",
   "mimetype": "text/x-python",
   "name": "python",
   "nbconvert_exporter": "python",
   "pygments_lexer": "ipython3",
   "version": "3.10.11"
  },
  "orig_nbformat": 4
 },
 "nbformat": 4,
 "nbformat_minor": 2
}
