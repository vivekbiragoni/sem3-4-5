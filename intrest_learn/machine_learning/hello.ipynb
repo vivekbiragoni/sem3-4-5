{
 "cells": [
  {
   "attachments": {},
   "cell_type": "markdown",
   "metadata": {},
   "source": [
    "*Hello World*"
   ]
  },
  {
   "attachments": {},
   "cell_type": "markdown",
   "metadata": {},
   "source": [
    "_I am vivek_"
   ]
  },
  {
   "cell_type": "code",
   "execution_count": 1,
   "metadata": {},
   "outputs": [
    {
     "ename": "ModuleNotFoundError",
     "evalue": "No module named 'pyfeat'",
     "output_type": "error",
     "traceback": [
      "\u001b[1;31m---------------------------------------------------------------------------\u001b[0m",
      "\u001b[1;31mModuleNotFoundError\u001b[0m                       Traceback (most recent call last)",
      "\u001b[1;32mc:\\Users\\vivek\\Desktop\\sem4\\intrest_learn\\machine_learning\\hello.ipynb Cell 3\u001b[0m in \u001b[0;36m2\n\u001b[0;32m      <a href='vscode-notebook-cell:/c%3A/Users/vivek/Desktop/sem4/intrest_learn/machine_learning/hello.ipynb#W2sZmlsZQ%3D%3D?line=0'>1</a>\u001b[0m \u001b[39mimport\u001b[39;00m \u001b[39mcv2\u001b[39;00m\n\u001b[1;32m----> <a href='vscode-notebook-cell:/c%3A/Users/vivek/Desktop/sem4/intrest_learn/machine_learning/hello.ipynb#W2sZmlsZQ%3D%3D?line=1'>2</a>\u001b[0m \u001b[39mfrom\u001b[39;00m \u001b[39mpyfeat\u001b[39;00m \u001b[39mimport\u001b[39;00m feat\n\u001b[0;32m      <a href='vscode-notebook-cell:/c%3A/Users/vivek/Desktop/sem4/intrest_learn/machine_learning/hello.ipynb#W2sZmlsZQ%3D%3D?line=3'>4</a>\u001b[0m \u001b[39m# Load the face data\u001b[39;00m\n\u001b[0;32m      <a href='vscode-notebook-cell:/c%3A/Users/vivek/Desktop/sem4/intrest_learn/machine_learning/hello.ipynb#W2sZmlsZQ%3D%3D?line=4'>5</a>\u001b[0m data \u001b[39m=\u001b[39m feat\u001b[39m.\u001b[39mFaceData()\n",
      "\u001b[1;31mModuleNotFoundError\u001b[0m: No module named 'pyfeat'"
     ]
    }
   ],
   "source": [
    "import cv2\n",
    "from pyfeat import feat\n",
    "\n",
    "# Load the face data\n",
    "data = feat.FaceData()\n",
    "\n",
    "# Open the video stream\n",
    "cap = cv2.VideoCapture(0)\n",
    "\n",
    "while True:\n",
    "    # Read a frame from the video stream\n",
    "    ret, frame = cap.read()\n",
    "\n",
    "    # Get the facial landmarks\n",
    "    landmarks = data.get_landmarks(frame)\n",
    "\n",
    "    # Analyze the facial expressions\n",
    "    expressions = feat.analyze(landmarks)\n",
    "\n",
    "    # Print the results\n",
    "    print(expressions)\n",
    "\n",
    "    # Show the frame\n",
    "    cv2.imshow('frame', frame)\n",
    "\n",
    "    # Wait for the user to press a key\n",
    "    if cv2.waitKey(1) & 0xFF == ord('q'):\n",
    "        break\n",
    "\n",
    "# Release the video stream and close the window\n",
    "cap.release()\n",
    "cv2.destroyAllWindows()\n"
   ]
  },
  {
   "cell_type": "code",
   "execution_count": null,
   "metadata": {},
   "outputs": [],
   "source": []
  }
 ],
 "metadata": {
  "kernelspec": {
   "display_name": "venv",
   "language": "python",
   "name": "python3"
  },
  "language_info": {
   "codemirror_mode": {
    "name": "ipython",
    "version": 3
   },
   "file_extension": ".py",
   "mimetype": "text/x-python",
   "name": "python",
   "nbconvert_exporter": "python",
   "pygments_lexer": "ipython3",
   "version": "3.10.10"
  },
  "orig_nbformat": 4
 },
 "nbformat": 4,
 "nbformat_minor": 2
}
